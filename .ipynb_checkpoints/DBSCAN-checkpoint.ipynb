{
 "cells": [
  {
   "cell_type": "code",
   "execution_count": 3,
   "id": "4203fa24",
   "metadata": {},
   "outputs": [],
   "source": [
    "import pandas as pd\n",
    "import numpy as np\n",
    "import matplotlib.pyplot as plt\n",
    "import sklearn.cluster as skc\n",
    "from sklearn.cluster import KMeans\n",
    "from sklearn.preprocessing import scale\n",
    "from sklearn.metrics import silhouette_samples"
   ]
  },
  {
   "cell_type": "code",
   "execution_count": 4,
   "id": "99eeabfb",
   "metadata": {},
   "outputs": [],
   "source": [
    "path =  r'E:\\\\学业\\\\IPS\\\\组会\\\\task_2\\\\03_trainingData_B1.csv'"
   ]
  },
  {
   "cell_type": "code",
   "execution_count": 5,
   "id": "1d617414",
   "metadata": {},
   "outputs": [],
   "source": [
    "with open(path,encoding='utf-8')as f:\n",
    "    data = np.loadtxt(path, dtype=str, delimiter=',')"
   ]
  },
  {
   "cell_type": "code",
   "execution_count": 6,
   "id": "cd1318b0",
   "metadata": {},
   "outputs": [],
   "source": [
    "train_df = pd.read_csv(path, header=0)"
   ]
  },
  {
   "cell_type": "code",
   "execution_count": 7,
   "id": "555562b8",
   "metadata": {},
   "outputs": [],
   "source": [
    "train_df = train_df[:1058]"
   ]
  },
  {
   "cell_type": "code",
   "execution_count": 8,
   "id": "db9ee636",
   "metadata": {},
   "outputs": [],
   "source": [
    "train_df = train_df.replace('*',-110)"
   ]
  },
  {
   "cell_type": "code",
   "execution_count": 9,
   "id": "8da4e70b",
   "metadata": {},
   "outputs": [],
   "source": [
    "train_df_features = scale(np.asarray(train_df.iloc[:,1:201]).astype(float), axis =1)\n"
   ]
  },
  {
   "cell_type": "code",
   "execution_count": 10,
   "id": "68fd08dc",
   "metadata": {},
   "outputs": [
    {
     "data": {
      "text/plain": [
       "array([[-0.18598672, -0.18598672,  3.40323073, ..., -0.18598672,\n",
       "        -0.18598672, -0.18598672],\n",
       "       [-0.18880777, -0.18880777,  3.31327191, ..., -0.18880777,\n",
       "        -0.18880777, -0.18880777],\n",
       "       [-0.1808101 , -0.1808101 ,  3.46856804, ..., -0.1808101 ,\n",
       "        -0.1808101 , -0.1808101 ],\n",
       "       ...,\n",
       "       [-0.20504687, -0.20504687, -0.20504687, ..., -0.20504687,\n",
       "        -0.20504687, -0.20504687],\n",
       "       [-0.22413217, -0.22413217, -0.22413217, ..., -0.22413217,\n",
       "        -0.22413217, -0.22413217],\n",
       "       [-0.22465963, -0.22465963, -0.22465963, ..., -0.22465963,\n",
       "        -0.22465963, -0.22465963]])"
      ]
     },
     "execution_count": 10,
     "metadata": {},
     "output_type": "execute_result"
    }
   ],
   "source": [
    "train_df_features"
   ]
  },
  {
   "cell_type": "code",
   "execution_count": 11,
   "id": "367f698c",
   "metadata": {},
   "outputs": [],
   "source": [
    "kmeans = KMeans(n_clusters = 5, random_state = 2, n_init =10).fit(train_df_features)\n",
    "label = kmeans.labels_"
   ]
  },
  {
   "cell_type": "code",
   "execution_count": 12,
   "id": "3e3f905d",
   "metadata": {},
   "outputs": [
    {
     "data": {
      "text/plain": [
       "array([2, 2, 2, 2, 2, 2, 2, 2, 2, 2, 2, 2, 2, 2, 2, 2, 2, 2, 2, 2, 2, 2,\n",
       "       2, 2, 2, 2, 2, 2, 2, 2, 2, 2, 2, 2, 2, 2, 2, 2, 2, 2, 2, 2, 2, 2,\n",
       "       2, 2, 2, 2, 2, 2, 2, 2, 2, 2, 2, 2, 2, 2, 2, 2, 2, 2, 2, 2, 2, 2,\n",
       "       2, 2, 2, 2, 2, 2, 2, 2, 2, 2, 2, 2, 2, 2, 2, 2, 2, 2, 2, 2, 2, 2,\n",
       "       2, 2, 2, 2, 2, 2, 2, 2, 2, 2, 2, 2, 2, 2, 2, 2, 2, 2, 2, 2, 2, 2,\n",
       "       2, 2, 2, 2, 2, 2, 2, 2, 2, 2, 2, 2, 2, 2, 2, 2, 2, 2, 2, 2, 2, 2,\n",
       "       2, 2, 2, 2, 2, 2, 2, 2, 2, 2, 0, 2, 2, 2, 2, 2, 2, 2, 2, 2, 2, 0,\n",
       "       0, 2, 2, 2, 0, 0, 0, 0, 0, 0, 0, 0, 0, 0, 0, 0, 0, 0, 0, 0, 0, 0,\n",
       "       0, 0, 0, 0, 0, 0, 0, 0, 0, 0, 0, 0, 0, 0, 0, 0, 0, 0, 0, 0, 0, 0,\n",
       "       0, 0, 0, 0, 0, 0, 0, 0, 0, 0, 0, 0, 0, 0, 0, 0, 0, 0, 0, 0, 0, 0,\n",
       "       0, 0, 0, 0, 0, 0, 0, 0, 0, 0, 0, 0, 0, 0, 0, 0, 0, 0, 0, 0, 0, 0,\n",
       "       0, 0, 0, 0, 0, 0, 0, 0, 0, 0, 0, 0, 0, 0, 0, 0, 0, 0, 0, 0, 0, 0,\n",
       "       0, 0, 0, 0, 0, 0, 0, 0, 0, 0, 0, 0, 0, 0, 0, 0, 0, 0, 0, 0, 0, 0,\n",
       "       0, 0, 0, 0, 0, 0, 0, 0, 0, 0, 0, 0, 0, 0, 0, 0, 4, 4, 4, 4, 4, 4,\n",
       "       4, 4, 4, 4, 4, 0, 4, 4, 4, 4, 4, 4, 4, 4, 0, 0, 0, 0, 0, 0, 0, 0,\n",
       "       0, 0, 0, 0, 0, 0, 0, 0, 0, 0, 0, 0, 0, 0, 0, 0, 0, 0, 0, 0, 0, 0,\n",
       "       0, 0, 0, 0, 0, 0, 0, 0, 0, 0, 4, 4, 4, 4, 4, 4, 4, 4, 4, 4, 4, 4,\n",
       "       4, 4, 4, 4, 4, 4, 4, 4, 0, 0, 0, 0, 0, 0, 0, 0, 0, 0, 0, 0, 0, 0,\n",
       "       0, 0, 0, 0, 0, 1, 1, 1, 1, 1, 1, 1, 1, 1, 1, 3, 3, 3, 3, 3, 3, 3,\n",
       "       3, 3, 3, 0, 0, 0, 0, 0, 0, 0, 0, 0, 0, 0, 0, 0, 0, 0, 0, 0, 0, 0,\n",
       "       0, 1, 1, 1, 1, 1, 3, 1, 1, 1, 1, 3, 3, 3, 3, 3, 3, 3, 3, 3, 3, 1,\n",
       "       1, 1, 1, 1, 1, 1, 1, 1, 1, 3, 3, 3, 3, 3, 3, 3, 3, 3, 3, 0, 0, 0,\n",
       "       0, 0, 0, 0, 0, 0, 0, 0, 0, 0, 0, 0, 0, 0, 0, 0, 0, 0, 0, 0, 0, 0,\n",
       "       0, 0, 0, 0, 0, 0, 0, 0, 0, 0, 0, 0, 0, 0, 0, 1, 1, 1, 3, 1, 1, 1,\n",
       "       1, 1, 1, 3, 3, 3, 3, 3, 3, 3, 3, 3, 3, 3, 3, 3, 3, 3, 3, 3, 3, 3,\n",
       "       0, 0, 0, 0, 0, 0, 0, 0, 0, 0, 0, 0, 0, 0, 0, 0, 0, 0, 0, 0, 1, 3,\n",
       "       1, 1, 3, 1, 1, 1, 1, 3, 1, 1, 1, 1, 1, 1, 1, 1, 1, 1, 3, 3, 3, 3,\n",
       "       3, 3, 3, 3, 3, 1, 1, 1, 1, 1, 1, 1, 1, 1, 1, 3, 3, 3, 3, 3, 3, 3,\n",
       "       3, 3, 3, 3, 3, 3, 3, 3, 3, 3, 3, 3, 3, 0, 0, 0, 0, 0, 0, 0, 0, 0,\n",
       "       0, 0, 0, 0, 0, 0, 0, 0, 0, 0, 0, 4, 4, 4, 4, 4, 4, 4, 4, 4, 4, 3,\n",
       "       3, 3, 3, 3, 3, 3, 3, 3, 3, 1, 1, 1, 1, 1, 1, 1, 1, 1, 3, 3, 3, 3,\n",
       "       3, 3, 3, 3, 3, 3, 0, 0, 0, 0, 0, 0, 0, 0, 0, 0, 0, 0, 0, 0, 0, 0,\n",
       "       0, 0, 0, 0, 0, 0, 0, 0, 0, 0, 0, 0, 0, 0, 1, 1, 1, 1, 1, 1, 1, 1,\n",
       "       1, 3, 3, 3, 3, 3, 3, 3, 3, 3, 3, 4, 4, 4, 4, 4, 4, 4, 4, 4, 4, 1,\n",
       "       1, 1, 1, 1, 1, 1, 1, 1, 1, 3, 3, 3, 3, 3, 3, 3, 3, 3, 3, 4, 4, 4,\n",
       "       4, 4, 4, 4, 4, 4, 4, 1, 1, 1, 1, 1, 1, 1, 1, 1, 1, 3, 3, 3, 3, 3,\n",
       "       3, 3, 3, 3, 3, 3, 3, 3, 3, 3, 3, 3, 3, 3, 3, 1, 1, 1, 1, 1, 1, 1,\n",
       "       1, 1, 1, 3, 3, 3, 3, 3, 3, 3, 3, 3, 3, 1, 1, 1, 1, 1, 1, 1, 1, 1,\n",
       "       1, 1, 1, 1, 1, 1, 1, 1, 1, 1, 1, 3, 3, 3, 3, 3, 3, 3, 3, 3, 3, 1,\n",
       "       1, 1, 1, 1, 1, 1, 1, 1, 1, 3, 3, 3, 3, 3, 3, 3, 3, 3, 3, 1, 1, 1,\n",
       "       1, 1, 1, 1, 1, 1, 1, 3, 3, 3, 3, 3, 3, 3, 3, 3, 3, 1, 1, 1, 1, 1,\n",
       "       1, 1, 1, 1, 1, 3, 3, 3, 3, 3, 3, 3, 3, 3, 3, 1, 1, 1, 1, 1, 1, 1,\n",
       "       1, 1, 1, 1, 1, 3, 3, 3, 3, 3, 3, 3, 3, 3, 3, 3, 3, 3, 3, 3, 3, 3,\n",
       "       3, 3, 3, 3, 3, 3, 3, 3, 3, 3, 3, 3, 3, 1, 1, 1, 1, 1, 1, 1, 1, 1,\n",
       "       1, 3, 3, 3, 3, 3, 3, 3, 3, 3, 1, 1, 1, 1, 1, 1, 1, 1, 1, 3, 3, 3,\n",
       "       3, 3, 3, 3, 1, 1, 1, 1, 1, 1])"
      ]
     },
     "execution_count": 12,
     "metadata": {},
     "output_type": "execute_result"
    }
   ],
   "source": [
    "label[0:1000]"
   ]
  },
  {
   "cell_type": "code",
   "execution_count": 13,
   "id": "3c32454a",
   "metadata": {},
   "outputs": [],
   "source": [
    "dbscan = skc.DBSCAN(eps =9, min_samples=2).fit(train_df_features)\n"
   ]
  },
  {
   "cell_type": "code",
   "execution_count": 14,
   "id": "28877813",
   "metadata": {},
   "outputs": [],
   "source": [
    "label2 = dbscan.labels_"
   ]
  },
  {
   "cell_type": "code",
   "execution_count": 15,
   "id": "80219bcb",
   "metadata": {},
   "outputs": [
    {
     "data": {
      "text/plain": [
       "array([0, 0, 0, ..., 1, 1, 1], dtype=int64)"
      ]
     },
     "execution_count": 15,
     "metadata": {},
     "output_type": "execute_result"
    }
   ],
   "source": [
    "label2"
   ]
  },
  {
   "cell_type": "code",
   "execution_count": 34,
   "id": "1d07f079",
   "metadata": {},
   "outputs": [
    {
     "name": "stderr",
     "output_type": "stream",
     "text": [
      "C:\\Users\\ADMINI~1.DES\\AppData\\Local\\Temp/ipykernel_13136/225662675.py:15: DeprecationWarning: The default dtype for empty Series will be 'object' instead of 'float64' in a future version. Specify a dtype explicitly to silence this warning.\n",
      "  stats = str(pd.Series([i for i in dbscan.labels_ if i != -1]).value_counts().values)\n",
      "C:\\Users\\ADMINI~1.DES\\AppData\\Local\\Temp/ipykernel_13136/225662675.py:15: DeprecationWarning: The default dtype for empty Series will be 'object' instead of 'float64' in a future version. Specify a dtype explicitly to silence this warning.\n",
      "  stats = str(pd.Series([i for i in dbscan.labels_ if i != -1]).value_counts().values)\n",
      "C:\\Users\\ADMINI~1.DES\\AppData\\Local\\Temp/ipykernel_13136/225662675.py:15: DeprecationWarning: The default dtype for empty Series will be 'object' instead of 'float64' in a future version. Specify a dtype explicitly to silence this warning.\n",
      "  stats = str(pd.Series([i for i in dbscan.labels_ if i != -1]).value_counts().values)\n",
      "C:\\Users\\ADMINI~1.DES\\AppData\\Local\\Temp/ipykernel_13136/225662675.py:15: DeprecationWarning: The default dtype for empty Series will be 'object' instead of 'float64' in a future version. Specify a dtype explicitly to silence this warning.\n",
      "  stats = str(pd.Series([i for i in dbscan.labels_ if i != -1]).value_counts().values)\n",
      "C:\\Users\\ADMINI~1.DES\\AppData\\Local\\Temp/ipykernel_13136/225662675.py:15: DeprecationWarning: The default dtype for empty Series will be 'object' instead of 'float64' in a future version. Specify a dtype explicitly to silence this warning.\n",
      "  stats = str(pd.Series([i for i in dbscan.labels_ if i != -1]).value_counts().values)\n",
      "C:\\Users\\ADMINI~1.DES\\AppData\\Local\\Temp/ipykernel_13136/225662675.py:15: DeprecationWarning: The default dtype for empty Series will be 'object' instead of 'float64' in a future version. Specify a dtype explicitly to silence this warning.\n",
      "  stats = str(pd.Series([i for i in dbscan.labels_ if i != -1]).value_counts().values)\n"
     ]
    }
   ],
   "source": [
    "# 构建空列表，用于保存不同参数组合下的结果\n",
    "res = []\n",
    "# 迭代不同的eps值\n",
    "for eps in np.arange(1,20,1):\n",
    "    # 迭代不同的min_samples值\n",
    "    for min_samples in range(100,101):\n",
    "        dbscan = skc.DBSCAN(eps = eps, min_samples = min_samples)\n",
    "        # 模型拟合\n",
    "        dbscan.fit(train_df_features)\n",
    "        # 统计各参数组合下的聚类个数（-1表示异常点）\n",
    "        n_clusters = len([i for i in set(dbscan.labels_) if i != -1])\n",
    "        # 异常点的个数\n",
    "        outliners = np.sum(np.where(dbscan.labels_ == -1, 1,0))\n",
    "        # 统计每个簇的样本个数\n",
    "        stats = str(pd.Series([i for i in dbscan.labels_ if i != -1]).value_counts().values)\n",
    "        res.append({'eps':eps,'min_samples':min_samples,'n_clusters':n_clusters,'outliners':outliners,'stats':stats})\n",
    "# 将迭代后的结果存储到数据框中        \n",
    "df = pd.DataFrame(res)"
   ]
  },
  {
   "cell_type": "code",
   "execution_count": 35,
   "id": "8cbde11c",
   "metadata": {},
   "outputs": [
    {
     "data": {
      "text/html": [
       "<div>\n",
       "<style scoped>\n",
       "    .dataframe tbody tr th:only-of-type {\n",
       "        vertical-align: middle;\n",
       "    }\n",
       "\n",
       "    .dataframe tbody tr th {\n",
       "        vertical-align: top;\n",
       "    }\n",
       "\n",
       "    .dataframe thead th {\n",
       "        text-align: right;\n",
       "    }\n",
       "</style>\n",
       "<table border=\"1\" class=\"dataframe\">\n",
       "  <thead>\n",
       "    <tr style=\"text-align: right;\">\n",
       "      <th></th>\n",
       "      <th>eps</th>\n",
       "      <th>min_samples</th>\n",
       "      <th>n_clusters</th>\n",
       "      <th>outliners</th>\n",
       "      <th>stats</th>\n",
       "    </tr>\n",
       "  </thead>\n",
       "  <tbody>\n",
       "    <tr>\n",
       "      <th>0</th>\n",
       "      <td>1</td>\n",
       "      <td>100</td>\n",
       "      <td>0</td>\n",
       "      <td>1058</td>\n",
       "      <td>[]</td>\n",
       "    </tr>\n",
       "    <tr>\n",
       "      <th>1</th>\n",
       "      <td>2</td>\n",
       "      <td>100</td>\n",
       "      <td>0</td>\n",
       "      <td>1058</td>\n",
       "      <td>[]</td>\n",
       "    </tr>\n",
       "    <tr>\n",
       "      <th>2</th>\n",
       "      <td>3</td>\n",
       "      <td>100</td>\n",
       "      <td>0</td>\n",
       "      <td>1058</td>\n",
       "      <td>[]</td>\n",
       "    </tr>\n",
       "    <tr>\n",
       "      <th>3</th>\n",
       "      <td>4</td>\n",
       "      <td>100</td>\n",
       "      <td>0</td>\n",
       "      <td>1058</td>\n",
       "      <td>[]</td>\n",
       "    </tr>\n",
       "    <tr>\n",
       "      <th>4</th>\n",
       "      <td>5</td>\n",
       "      <td>100</td>\n",
       "      <td>0</td>\n",
       "      <td>1058</td>\n",
       "      <td>[]</td>\n",
       "    </tr>\n",
       "    <tr>\n",
       "      <th>5</th>\n",
       "      <td>6</td>\n",
       "      <td>100</td>\n",
       "      <td>0</td>\n",
       "      <td>1058</td>\n",
       "      <td>[]</td>\n",
       "    </tr>\n",
       "    <tr>\n",
       "      <th>6</th>\n",
       "      <td>7</td>\n",
       "      <td>100</td>\n",
       "      <td>3</td>\n",
       "      <td>446</td>\n",
       "      <td>[341 136 135]</td>\n",
       "    </tr>\n",
       "    <tr>\n",
       "      <th>7</th>\n",
       "      <td>8</td>\n",
       "      <td>100</td>\n",
       "      <td>2</td>\n",
       "      <td>142</td>\n",
       "      <td>[487 429]</td>\n",
       "    </tr>\n",
       "    <tr>\n",
       "      <th>8</th>\n",
       "      <td>9</td>\n",
       "      <td>100</td>\n",
       "      <td>2</td>\n",
       "      <td>91</td>\n",
       "      <td>[492 475]</td>\n",
       "    </tr>\n",
       "    <tr>\n",
       "      <th>9</th>\n",
       "      <td>10</td>\n",
       "      <td>100</td>\n",
       "      <td>2</td>\n",
       "      <td>78</td>\n",
       "      <td>[492 488]</td>\n",
       "    </tr>\n",
       "    <tr>\n",
       "      <th>10</th>\n",
       "      <td>11</td>\n",
       "      <td>100</td>\n",
       "      <td>2</td>\n",
       "      <td>58</td>\n",
       "      <td>[505 495]</td>\n",
       "    </tr>\n",
       "    <tr>\n",
       "      <th>11</th>\n",
       "      <td>12</td>\n",
       "      <td>100</td>\n",
       "      <td>2</td>\n",
       "      <td>46</td>\n",
       "      <td>[514 498]</td>\n",
       "    </tr>\n",
       "    <tr>\n",
       "      <th>12</th>\n",
       "      <td>13</td>\n",
       "      <td>100</td>\n",
       "      <td>2</td>\n",
       "      <td>31</td>\n",
       "      <td>[517 510]</td>\n",
       "    </tr>\n",
       "    <tr>\n",
       "      <th>13</th>\n",
       "      <td>14</td>\n",
       "      <td>100</td>\n",
       "      <td>2</td>\n",
       "      <td>21</td>\n",
       "      <td>[519 518]</td>\n",
       "    </tr>\n",
       "    <tr>\n",
       "      <th>14</th>\n",
       "      <td>15</td>\n",
       "      <td>100</td>\n",
       "      <td>2</td>\n",
       "      <td>0</td>\n",
       "      <td>[530 528]</td>\n",
       "    </tr>\n",
       "    <tr>\n",
       "      <th>15</th>\n",
       "      <td>16</td>\n",
       "      <td>100</td>\n",
       "      <td>1</td>\n",
       "      <td>0</td>\n",
       "      <td>[1058]</td>\n",
       "    </tr>\n",
       "    <tr>\n",
       "      <th>16</th>\n",
       "      <td>17</td>\n",
       "      <td>100</td>\n",
       "      <td>1</td>\n",
       "      <td>0</td>\n",
       "      <td>[1058]</td>\n",
       "    </tr>\n",
       "    <tr>\n",
       "      <th>17</th>\n",
       "      <td>18</td>\n",
       "      <td>100</td>\n",
       "      <td>1</td>\n",
       "      <td>0</td>\n",
       "      <td>[1058]</td>\n",
       "    </tr>\n",
       "    <tr>\n",
       "      <th>18</th>\n",
       "      <td>19</td>\n",
       "      <td>100</td>\n",
       "      <td>1</td>\n",
       "      <td>0</td>\n",
       "      <td>[1058]</td>\n",
       "    </tr>\n",
       "  </tbody>\n",
       "</table>\n",
       "</div>"
      ],
      "text/plain": [
       "    eps  min_samples  n_clusters  outliners          stats\n",
       "0     1          100           0       1058             []\n",
       "1     2          100           0       1058             []\n",
       "2     3          100           0       1058             []\n",
       "3     4          100           0       1058             []\n",
       "4     5          100           0       1058             []\n",
       "5     6          100           0       1058             []\n",
       "6     7          100           3        446  [341 136 135]\n",
       "7     8          100           2        142      [487 429]\n",
       "8     9          100           2         91      [492 475]\n",
       "9    10          100           2         78      [492 488]\n",
       "10   11          100           2         58      [505 495]\n",
       "11   12          100           2         46      [514 498]\n",
       "12   13          100           2         31      [517 510]\n",
       "13   14          100           2         21      [519 518]\n",
       "14   15          100           2          0      [530 528]\n",
       "15   16          100           1          0         [1058]\n",
       "16   17          100           1          0         [1058]\n",
       "17   18          100           1          0         [1058]\n",
       "18   19          100           1          0         [1058]"
      ]
     },
     "execution_count": 35,
     "metadata": {},
     "output_type": "execute_result"
    }
   ],
   "source": [
    "df"
   ]
  },
  {
   "cell_type": "code",
   "execution_count": 18,
   "id": "56fa038e",
   "metadata": {},
   "outputs": [],
   "source": [
    "loc_df2 = pd.DataFrame()\n",
    "loc_df2['longitude'] = train_df.LONGITUDE\n",
    "loc_df2['latitude'] = train_df.LATITUDE\n",
    "loc_df2['label'] = label2"
   ]
  },
  {
   "cell_type": "code",
   "execution_count": 19,
   "id": "841d8684",
   "metadata": {},
   "outputs": [
    {
     "data": {
      "text/plain": [
       "0       0\n",
       "1       0\n",
       "2       0\n",
       "3       0\n",
       "4       0\n",
       "       ..\n",
       "1053    1\n",
       "1054    1\n",
       "1055    1\n",
       "1056    1\n",
       "1057    1\n",
       "Name: label, Length: 1058, dtype: int64"
      ]
     },
     "execution_count": 19,
     "metadata": {},
     "output_type": "execute_result"
    }
   ],
   "source": [
    "loc_df2['label'] "
   ]
  },
  {
   "cell_type": "code",
   "execution_count": 20,
   "id": "3b55efd4",
   "metadata": {},
   "outputs": [
    {
     "data": {
      "image/png": "[encoded data removed]",
      "text/plain": [
       "<Figure size 504x504 with 1 Axes>"
      ]
     },
     "metadata": {
      "needs_background": "light"
     },
     "output_type": "display_data"
    }
   ],
   "source": [
    "plt.figure(figsize = (7,7))\n",
    "for label in loc_df2.label.unique():\n",
    "    plt.plot(loc_df2.longitude[loc_df2.label==label],loc_df2.latitude[loc_df2.label==label],'.',markersize = 10)\n",
    "plt.title('Results of Kmeans when n_clusters is 2')\n",
    "plt.show()"
   ]
  },
  {
   "cell_type": "code",
   "execution_count": 39,
   "id": "f0d6c1b8",
   "metadata": {},
   "outputs": [
    {
     "data": {
      "image/png": "[encoded data removed]",
      "text/plain": [
       "<Figure size 504x504 with 1 Axes>"
      ]
     },
     "metadata": {
      "needs_background": "light"
     },
     "output_type": "display_data"
    }
   ],
   "source": [
    "dbscan = skc.DBSCAN(eps =14, min_samples=100).fit(train_df_features)\n",
    "label2 = dbscan.labels_\n",
    "loc_df2 = pd.DataFrame()\n",
    "loc_df2['longitude'] = train_df.LONGITUDE\n",
    "loc_df2['latitude'] = train_df.LATITUDE\n",
    "loc_df2['label'] = label2\n",
    "plt.figure(figsize = (7,7))\n",
    "for label in loc_df2.label.unique():\n",
    "    plt.plot(loc_df2.longitude[loc_df2.label==label],loc_df2.latitude[loc_df2.label==label],'.',markersize = 10)\n",
    "plt.title('Results of DBSCAN')\n",
    "plt.show()"
   ]
  },
  {
   "cell_type": "code",
   "execution_count": null,
   "id": "8056854b",
   "metadata": {},
   "outputs": [],
   "source": []
  }
 ],
 "metadata": {
  "kernelspec": {
   "display_name": "Python 3 (ipykernel)",
   "language": "python",
   "name": "python3"
  },
  "language_info": {
   "codemirror_mode": {
    "name": "ipython",
    "version": 3
   },
   "file_extension": ".py",
   "mimetype": "text/x-python",
   "name": "python",
   "nbconvert_exporter": "python",
   "pygments_lexer": "ipython3",
   "version": "3.9.12"
  }
 },
 "nbformat": 4,
 "nbformat_minor": 5
}
