{
 "cells": [
  {
   "cell_type": "code",
   "execution_count": 1,
   "id": "a9f7e1bc",
   "metadata": {},
   "outputs": [],
   "source": [
    "import pandas as pd\n",
    "import numpy as np\n",
    "import matplotlib.pyplot as plt\n",
    "from sklearn.cluster import KMeans\n",
    "from sklearn.preprocessing import scale\n",
    "from sklearn.metrics import silhouette_samples"
   ]
  },
  {
   "cell_type": "code",
   "execution_count": 2,
   "id": "6f1a3dfb",
   "metadata": {},
   "outputs": [],
   "source": [
    "path = r'E:\\\\学业\\\\IPS\\\\组会\\\\task_1\\\\data\\\\03_trainingData_B1.csv'"
   ]
  },
  {
   "cell_type": "code",
   "execution_count": 3,
   "id": "68be9ee2",
   "metadata": {},
   "outputs": [],
   "source": [
    "with open(path,encoding='utf-8')as f:\n",
    "    data = np.loadtxt(path, dtype=str, delimiter=',')"
   ]
  },
  {
   "cell_type": "code",
   "execution_count": 4,
   "id": "c5155bb3",
   "metadata": {},
   "outputs": [
    {
     "data": {
      "text/plain": [
       "array([['ID', 'WAP001', 'WAP002', ..., 'LONGITUDE', 'LATITUDE', 'FLOOR'],\n",
       "       ['1', '*', '*', ..., '10.21525493148', '35.09445236', '1'],\n",
       "       ['2', '*', '*', ..., '10.21525493148', '35.09445236', '1'],\n",
       "       ...,\n",
       "       ['5246', '*', '*', ..., '108.83645493049', '91.29515236', '4'],\n",
       "       ['5247', '*', '*', ..., '108.83645493049', '91.29515236', '4'],\n",
       "       ['5248', '*', '*', ..., '108.83645493049', '91.29515236', '4']],\n",
       "      dtype='<U15')"
      ]
     },
     "execution_count": 4,
     "metadata": {},
     "output_type": "execute_result"
    }
   ],
   "source": [
    "data"
   ]
  },
  {
   "cell_type": "code",
   "execution_count": 5,
   "id": "bc74ff2c",
   "metadata": {},
   "outputs": [],
   "source": [
    "train_df = pd.read_csv(path, header=0)"
   ]
  },
  {
   "cell_type": "code",
   "execution_count": 6,
   "id": "8e745ae6",
   "metadata": {},
   "outputs": [],
   "source": [
    "train_df = train_df[:1058]"
   ]
  },
  {
   "cell_type": "code",
   "execution_count": 7,
   "id": "fcf95cf0",
   "metadata": {},
   "outputs": [
    {
     "data": {
      "text/html": [
       "<div>\n",
       "<style scoped>\n",
       "    .dataframe tbody tr th:only-of-type {\n",
       "        vertical-align: middle;\n",
       "    }\n",
       "\n",
       "    .dataframe tbody tr th {\n",
       "        vertical-align: top;\n",
       "    }\n",
       "\n",
       "    .dataframe thead th {\n",
       "        text-align: right;\n",
       "    }\n",
       "</style>\n",
       "<table border=\"1\" class=\"dataframe\">\n",
       "  <thead>\n",
       "    <tr style=\"text-align: right;\">\n",
       "      <th></th>\n",
       "      <th>ID</th>\n",
       "      <th>WAP001</th>\n",
       "      <th>WAP002</th>\n",
       "      <th>WAP003</th>\n",
       "      <th>WAP004</th>\n",
       "      <th>WAP005</th>\n",
       "      <th>WAP006</th>\n",
       "      <th>WAP007</th>\n",
       "      <th>WAP008</th>\n",
       "      <th>WAP009</th>\n",
       "      <th>...</th>\n",
       "      <th>WAP194</th>\n",
       "      <th>WAP195</th>\n",
       "      <th>WAP196</th>\n",
       "      <th>WAP197</th>\n",
       "      <th>WAP198</th>\n",
       "      <th>WAP199</th>\n",
       "      <th>WAP200</th>\n",
       "      <th>LONGITUDE</th>\n",
       "      <th>LATITUDE</th>\n",
       "      <th>FLOOR</th>\n",
       "    </tr>\n",
       "  </thead>\n",
       "  <tbody>\n",
       "    <tr>\n",
       "      <th>0</th>\n",
       "      <td>1</td>\n",
       "      <td>*</td>\n",
       "      <td>*</td>\n",
       "      <td>-88</td>\n",
       "      <td>*</td>\n",
       "      <td>*</td>\n",
       "      <td>*</td>\n",
       "      <td>*</td>\n",
       "      <td>*</td>\n",
       "      <td>*</td>\n",
       "      <td>...</td>\n",
       "      <td>*</td>\n",
       "      <td>*</td>\n",
       "      <td>*</td>\n",
       "      <td>*</td>\n",
       "      <td>*</td>\n",
       "      <td>*</td>\n",
       "      <td>*</td>\n",
       "      <td>10.215255</td>\n",
       "      <td>35.094452</td>\n",
       "      <td>1</td>\n",
       "    </tr>\n",
       "    <tr>\n",
       "      <th>1</th>\n",
       "      <td>2</td>\n",
       "      <td>*</td>\n",
       "      <td>*</td>\n",
       "      <td>-87</td>\n",
       "      <td>*</td>\n",
       "      <td>*</td>\n",
       "      <td>*</td>\n",
       "      <td>*</td>\n",
       "      <td>*</td>\n",
       "      <td>*</td>\n",
       "      <td>...</td>\n",
       "      <td>*</td>\n",
       "      <td>*</td>\n",
       "      <td>*</td>\n",
       "      <td>*</td>\n",
       "      <td>*</td>\n",
       "      <td>*</td>\n",
       "      <td>*</td>\n",
       "      <td>10.215255</td>\n",
       "      <td>35.094452</td>\n",
       "      <td>1</td>\n",
       "    </tr>\n",
       "    <tr>\n",
       "      <th>2</th>\n",
       "      <td>3</td>\n",
       "      <td>*</td>\n",
       "      <td>*</td>\n",
       "      <td>-88</td>\n",
       "      <td>*</td>\n",
       "      <td>*</td>\n",
       "      <td>*</td>\n",
       "      <td>*</td>\n",
       "      <td>*</td>\n",
       "      <td>*</td>\n",
       "      <td>...</td>\n",
       "      <td>*</td>\n",
       "      <td>*</td>\n",
       "      <td>*</td>\n",
       "      <td>*</td>\n",
       "      <td>*</td>\n",
       "      <td>*</td>\n",
       "      <td>*</td>\n",
       "      <td>10.215255</td>\n",
       "      <td>35.094452</td>\n",
       "      <td>1</td>\n",
       "    </tr>\n",
       "    <tr>\n",
       "      <th>3</th>\n",
       "      <td>4</td>\n",
       "      <td>*</td>\n",
       "      <td>*</td>\n",
       "      <td>-87</td>\n",
       "      <td>*</td>\n",
       "      <td>*</td>\n",
       "      <td>*</td>\n",
       "      <td>*</td>\n",
       "      <td>*</td>\n",
       "      <td>*</td>\n",
       "      <td>...</td>\n",
       "      <td>*</td>\n",
       "      <td>*</td>\n",
       "      <td>*</td>\n",
       "      <td>*</td>\n",
       "      <td>*</td>\n",
       "      <td>*</td>\n",
       "      <td>*</td>\n",
       "      <td>10.215255</td>\n",
       "      <td>35.094452</td>\n",
       "      <td>1</td>\n",
       "    </tr>\n",
       "    <tr>\n",
       "      <th>4</th>\n",
       "      <td>5</td>\n",
       "      <td>*</td>\n",
       "      <td>*</td>\n",
       "      <td>-87</td>\n",
       "      <td>*</td>\n",
       "      <td>*</td>\n",
       "      <td>*</td>\n",
       "      <td>*</td>\n",
       "      <td>*</td>\n",
       "      <td>*</td>\n",
       "      <td>...</td>\n",
       "      <td>*</td>\n",
       "      <td>*</td>\n",
       "      <td>*</td>\n",
       "      <td>*</td>\n",
       "      <td>*</td>\n",
       "      <td>*</td>\n",
       "      <td>*</td>\n",
       "      <td>10.215255</td>\n",
       "      <td>35.094452</td>\n",
       "      <td>1</td>\n",
       "    </tr>\n",
       "    <tr>\n",
       "      <th>...</th>\n",
       "      <td>...</td>\n",
       "      <td>...</td>\n",
       "      <td>...</td>\n",
       "      <td>...</td>\n",
       "      <td>...</td>\n",
       "      <td>...</td>\n",
       "      <td>...</td>\n",
       "      <td>...</td>\n",
       "      <td>...</td>\n",
       "      <td>...</td>\n",
       "      <td>...</td>\n",
       "      <td>...</td>\n",
       "      <td>...</td>\n",
       "      <td>...</td>\n",
       "      <td>...</td>\n",
       "      <td>...</td>\n",
       "      <td>...</td>\n",
       "      <td>...</td>\n",
       "      <td>...</td>\n",
       "      <td>...</td>\n",
       "      <td>...</td>\n",
       "    </tr>\n",
       "    <tr>\n",
       "      <th>1053</th>\n",
       "      <td>1054</td>\n",
       "      <td>*</td>\n",
       "      <td>*</td>\n",
       "      <td>*</td>\n",
       "      <td>-91</td>\n",
       "      <td>*</td>\n",
       "      <td>*</td>\n",
       "      <td>*</td>\n",
       "      <td>*</td>\n",
       "      <td>*</td>\n",
       "      <td>...</td>\n",
       "      <td>*</td>\n",
       "      <td>*</td>\n",
       "      <td>*</td>\n",
       "      <td>*</td>\n",
       "      <td>*</td>\n",
       "      <td>*</td>\n",
       "      <td>*</td>\n",
       "      <td>108.897355</td>\n",
       "      <td>91.261952</td>\n",
       "      <td>1</td>\n",
       "    </tr>\n",
       "    <tr>\n",
       "      <th>1054</th>\n",
       "      <td>1055</td>\n",
       "      <td>*</td>\n",
       "      <td>*</td>\n",
       "      <td>*</td>\n",
       "      <td>*</td>\n",
       "      <td>*</td>\n",
       "      <td>*</td>\n",
       "      <td>*</td>\n",
       "      <td>*</td>\n",
       "      <td>*</td>\n",
       "      <td>...</td>\n",
       "      <td>*</td>\n",
       "      <td>*</td>\n",
       "      <td>*</td>\n",
       "      <td>*</td>\n",
       "      <td>*</td>\n",
       "      <td>*</td>\n",
       "      <td>*</td>\n",
       "      <td>108.897355</td>\n",
       "      <td>91.261952</td>\n",
       "      <td>1</td>\n",
       "    </tr>\n",
       "    <tr>\n",
       "      <th>1055</th>\n",
       "      <td>1056</td>\n",
       "      <td>*</td>\n",
       "      <td>*</td>\n",
       "      <td>*</td>\n",
       "      <td>*</td>\n",
       "      <td>*</td>\n",
       "      <td>*</td>\n",
       "      <td>*</td>\n",
       "      <td>*</td>\n",
       "      <td>*</td>\n",
       "      <td>...</td>\n",
       "      <td>*</td>\n",
       "      <td>*</td>\n",
       "      <td>*</td>\n",
       "      <td>*</td>\n",
       "      <td>*</td>\n",
       "      <td>*</td>\n",
       "      <td>*</td>\n",
       "      <td>108.897355</td>\n",
       "      <td>91.261952</td>\n",
       "      <td>1</td>\n",
       "    </tr>\n",
       "    <tr>\n",
       "      <th>1056</th>\n",
       "      <td>1057</td>\n",
       "      <td>*</td>\n",
       "      <td>*</td>\n",
       "      <td>*</td>\n",
       "      <td>*</td>\n",
       "      <td>*</td>\n",
       "      <td>*</td>\n",
       "      <td>*</td>\n",
       "      <td>*</td>\n",
       "      <td>*</td>\n",
       "      <td>...</td>\n",
       "      <td>*</td>\n",
       "      <td>*</td>\n",
       "      <td>*</td>\n",
       "      <td>*</td>\n",
       "      <td>*</td>\n",
       "      <td>*</td>\n",
       "      <td>*</td>\n",
       "      <td>108.897355</td>\n",
       "      <td>91.261952</td>\n",
       "      <td>1</td>\n",
       "    </tr>\n",
       "    <tr>\n",
       "      <th>1057</th>\n",
       "      <td>1058</td>\n",
       "      <td>*</td>\n",
       "      <td>*</td>\n",
       "      <td>*</td>\n",
       "      <td>*</td>\n",
       "      <td>*</td>\n",
       "      <td>*</td>\n",
       "      <td>*</td>\n",
       "      <td>*</td>\n",
       "      <td>*</td>\n",
       "      <td>...</td>\n",
       "      <td>*</td>\n",
       "      <td>*</td>\n",
       "      <td>*</td>\n",
       "      <td>*</td>\n",
       "      <td>*</td>\n",
       "      <td>*</td>\n",
       "      <td>*</td>\n",
       "      <td>108.897355</td>\n",
       "      <td>91.261952</td>\n",
       "      <td>1</td>\n",
       "    </tr>\n",
       "  </tbody>\n",
       "</table>\n",
       "<p>1058 rows × 204 columns</p>\n",
       "</div>"
      ],
      "text/plain": [
       "        ID WAP001 WAP002 WAP003 WAP004 WAP005 WAP006 WAP007 WAP008 WAP009  \\\n",
       "0        1      *      *    -88      *      *      *      *      *      *   \n",
       "1        2      *      *    -87      *      *      *      *      *      *   \n",
       "2        3      *      *    -88      *      *      *      *      *      *   \n",
       "3        4      *      *    -87      *      *      *      *      *      *   \n",
       "4        5      *      *    -87      *      *      *      *      *      *   \n",
       "...    ...    ...    ...    ...    ...    ...    ...    ...    ...    ...   \n",
       "1053  1054      *      *      *    -91      *      *      *      *      *   \n",
       "1054  1055      *      *      *      *      *      *      *      *      *   \n",
       "1055  1056      *      *      *      *      *      *      *      *      *   \n",
       "1056  1057      *      *      *      *      *      *      *      *      *   \n",
       "1057  1058      *      *      *      *      *      *      *      *      *   \n",
       "\n",
       "      ... WAP194 WAP195 WAP196 WAP197 WAP198 WAP199 WAP200   LONGITUDE  \\\n",
       "0     ...      *      *      *      *      *      *      *   10.215255   \n",
       "1     ...      *      *      *      *      *      *      *   10.215255   \n",
       "2     ...      *      *      *      *      *      *      *   10.215255   \n",
       "3     ...      *      *      *      *      *      *      *   10.215255   \n",
       "4     ...      *      *      *      *      *      *      *   10.215255   \n",
       "...   ...    ...    ...    ...    ...    ...    ...    ...         ...   \n",
       "1053  ...      *      *      *      *      *      *      *  108.897355   \n",
       "1054  ...      *      *      *      *      *      *      *  108.897355   \n",
       "1055  ...      *      *      *      *      *      *      *  108.897355   \n",
       "1056  ...      *      *      *      *      *      *      *  108.897355   \n",
       "1057  ...      *      *      *      *      *      *      *  108.897355   \n",
       "\n",
       "       LATITUDE FLOOR  \n",
       "0     35.094452     1  \n",
       "1     35.094452     1  \n",
       "2     35.094452     1  \n",
       "3     35.094452     1  \n",
       "4     35.094452     1  \n",
       "...         ...   ...  \n",
       "1053  91.261952     1  \n",
       "1054  91.261952     1  \n",
       "1055  91.261952     1  \n",
       "1056  91.261952     1  \n",
       "1057  91.261952     1  \n",
       "\n",
       "[1058 rows x 204 columns]"
      ]
     },
     "execution_count": 7,
     "metadata": {},
     "output_type": "execute_result"
    }
   ],
   "source": [
    "train_df"
   ]
  },
  {
   "cell_type": "code",
   "execution_count": 8,
   "id": "8a5e5f85",
   "metadata": {},
   "outputs": [
    {
     "data": {
      "text/plain": [
       "0        10.215255\n",
       "1        10.215255\n",
       "2        10.215255\n",
       "3        10.215255\n",
       "4        10.215255\n",
       "           ...    \n",
       "1053    108.897355\n",
       "1054    108.897355\n",
       "1055    108.897355\n",
       "1056    108.897355\n",
       "1057    108.897355\n",
       "Name: LONGITUDE, Length: 1058, dtype: float64"
      ]
     },
     "execution_count": 8,
     "metadata": {},
     "output_type": "execute_result"
    }
   ],
   "source": [
    "train_df.LONGITUDE"
   ]
  },
  {
   "cell_type": "code",
   "execution_count": 18,
   "id": "37a368d9",
   "metadata": {},
   "outputs": [
    {
     "data": {
      "image/png": "[encoded data removed]",
      "text/plain": [
       "<Figure size 504x504 with 1 Axes>"
      ]
     },
     "metadata": {
      "needs_background": "light"
     },
     "output_type": "display_data"
    }
   ],
   "source": [
    "plt.figure(figsize = (7,7))\n",
    "\n",
    "plt.plot(train_df.LONGITUDE,train_df.LATITUDE,'.',markersize = 10)\n",
    "plt.xlabel('X[m]',fontsize = 20)\n",
    "plt.ylabel('Y[m]',fontsize = 20)\n",
    "plt.title('Building 1,Floor 1',fontsize = 20)\n",
    "plt.show()\n"
   ]
  },
  {
   "cell_type": "code",
   "execution_count": 58,
   "id": "64e6876d",
   "metadata": {},
   "outputs": [],
   "source": [
    "loc_df = pd.DataFrame()\n",
    "loc_df['longitude'] = train_df.LONGITUDE\n",
    "loc_df['latitude'] = train_df.LATITUDE"
   ]
  },
  {
   "cell_type": "code",
   "execution_count": 59,
   "id": "d456ba2e",
   "metadata": {},
   "outputs": [
    {
     "data": {
      "text/plain": [
       "0        10.215255\n",
       "1        10.215255\n",
       "2        10.215255\n",
       "3        10.215255\n",
       "4        10.215255\n",
       "           ...    \n",
       "1053    108.897355\n",
       "1054    108.897355\n",
       "1055    108.897355\n",
       "1056    108.897355\n",
       "1057    108.897355\n",
       "Name: longitude, Length: 1058, dtype: float64"
      ]
     },
     "execution_count": 59,
     "metadata": {},
     "output_type": "execute_result"
    }
   ],
   "source": [
    "loc_df['longitude']"
   ]
  },
  {
   "cell_type": "code",
   "execution_count": 60,
   "id": "c98479b2",
   "metadata": {},
   "outputs": [
    {
     "data": {
      "text/html": [
       "<div>\n",
       "<style scoped>\n",
       "    .dataframe tbody tr th:only-of-type {\n",
       "        vertical-align: middle;\n",
       "    }\n",
       "\n",
       "    .dataframe tbody tr th {\n",
       "        vertical-align: top;\n",
       "    }\n",
       "\n",
       "    .dataframe thead th {\n",
       "        text-align: right;\n",
       "    }\n",
       "</style>\n",
       "<table border=\"1\" class=\"dataframe\">\n",
       "  <thead>\n",
       "    <tr style=\"text-align: right;\">\n",
       "      <th></th>\n",
       "      <th>longitude</th>\n",
       "      <th>latitude</th>\n",
       "    </tr>\n",
       "  </thead>\n",
       "  <tbody>\n",
       "    <tr>\n",
       "      <th>0</th>\n",
       "      <td>10.215255</td>\n",
       "      <td>35.094452</td>\n",
       "    </tr>\n",
       "    <tr>\n",
       "      <th>1</th>\n",
       "      <td>10.215255</td>\n",
       "      <td>35.094452</td>\n",
       "    </tr>\n",
       "    <tr>\n",
       "      <th>2</th>\n",
       "      <td>10.215255</td>\n",
       "      <td>35.094452</td>\n",
       "    </tr>\n",
       "    <tr>\n",
       "      <th>3</th>\n",
       "      <td>10.215255</td>\n",
       "      <td>35.094452</td>\n",
       "    </tr>\n",
       "    <tr>\n",
       "      <th>4</th>\n",
       "      <td>10.215255</td>\n",
       "      <td>35.094452</td>\n",
       "    </tr>\n",
       "    <tr>\n",
       "      <th>...</th>\n",
       "      <td>...</td>\n",
       "      <td>...</td>\n",
       "    </tr>\n",
       "    <tr>\n",
       "      <th>1053</th>\n",
       "      <td>108.897355</td>\n",
       "      <td>91.261952</td>\n",
       "    </tr>\n",
       "    <tr>\n",
       "      <th>1054</th>\n",
       "      <td>108.897355</td>\n",
       "      <td>91.261952</td>\n",
       "    </tr>\n",
       "    <tr>\n",
       "      <th>1055</th>\n",
       "      <td>108.897355</td>\n",
       "      <td>91.261952</td>\n",
       "    </tr>\n",
       "    <tr>\n",
       "      <th>1056</th>\n",
       "      <td>108.897355</td>\n",
       "      <td>91.261952</td>\n",
       "    </tr>\n",
       "    <tr>\n",
       "      <th>1057</th>\n",
       "      <td>108.897355</td>\n",
       "      <td>91.261952</td>\n",
       "    </tr>\n",
       "  </tbody>\n",
       "</table>\n",
       "<p>1058 rows × 2 columns</p>\n",
       "</div>"
      ],
      "text/plain": [
       "       longitude   latitude\n",
       "0      10.215255  35.094452\n",
       "1      10.215255  35.094452\n",
       "2      10.215255  35.094452\n",
       "3      10.215255  35.094452\n",
       "4      10.215255  35.094452\n",
       "...          ...        ...\n",
       "1053  108.897355  91.261952\n",
       "1054  108.897355  91.261952\n",
       "1055  108.897355  91.261952\n",
       "1056  108.897355  91.261952\n",
       "1057  108.897355  91.261952\n",
       "\n",
       "[1058 rows x 2 columns]"
      ]
     },
     "execution_count": 60,
     "metadata": {},
     "output_type": "execute_result"
    }
   ],
   "source": [
    "loc_df"
   ]
  },
  {
   "cell_type": "code",
   "execution_count": 61,
   "id": "e81924cc",
   "metadata": {},
   "outputs": [
    {
     "data": {
      "image/png": "[encoded data removed]",
      "text/plain": [
       "<Figure size 504x504 with 1 Axes>"
      ]
     },
     "metadata": {
      "needs_background": "light"
     },
     "output_type": "display_data"
    }
   ],
   "source": [
    "kmeans = KMeans(n_clusters = 2, random_state = 2, n_init =10).fit(loc_df)\n",
    "loc_df['label'] = kmeans.labels_\n",
    "plt.figure(figsize = (7,7))\n",
    "for label in loc_df.label.unique():\n",
    "    plt.plot(loc_df.longitude[loc_df.label==label],loc_df.latitude[loc_df.label==label],'.',markersize = 10)\n",
    "plt.title('Results of Kmeans when n_clusters is 2')\n",
    "plt.show()"
   ]
  },
  {
   "cell_type": "code",
   "execution_count": 62,
   "id": "09d38691",
   "metadata": {},
   "outputs": [
    {
     "data": {
      "image/png": "[encoded data removed]",
      "text/plain": [
       "<Figure size 504x504 with 1 Axes>"
      ]
     },
     "metadata": {
      "needs_background": "light"
     },
     "output_type": "display_data"
    }
   ],
   "source": [
    "kmeans = KMeans(n_clusters = 3, random_state = 2, n_init =10).fit(loc_df)\n",
    "loc_df['label'] = kmeans.labels_\n",
    "plt.figure(figsize = (7,7))\n",
    "for label in loc_df.label.unique():\n",
    "    plt.plot(loc_df.longitude[loc_df.label==label],loc_df.latitude[loc_df.label==label],'.',markersize = 10)\n",
    "plt.title('Results of Kmeans when n_clusters is 3')\n",
    "plt.show()"
   ]
  },
  {
   "cell_type": "code",
   "execution_count": 63,
   "id": "e25436b7",
   "metadata": {},
   "outputs": [
    {
     "data": {
      "text/plain": [
       "0        10.215255\n",
       "1        10.215255\n",
       "2        10.215255\n",
       "3        10.215255\n",
       "4        10.215255\n",
       "           ...    \n",
       "1053    108.897355\n",
       "1054    108.897355\n",
       "1055    108.897355\n",
       "1056    108.897355\n",
       "1057    108.897355\n",
       "Name: longitude, Length: 1058, dtype: float64"
      ]
     },
     "execution_count": 63,
     "metadata": {},
     "output_type": "execute_result"
    }
   ],
   "source": [
    "loc_df.longitude"
   ]
  },
  {
   "cell_type": "code",
   "execution_count": 64,
   "id": "79abae68",
   "metadata": {},
   "outputs": [
    {
     "data": {
      "image/png": "[encoded data removed]",
      "text/plain": [
       "<Figure size 504x504 with 1 Axes>"
      ]
     },
     "metadata": {
      "needs_background": "light"
     },
     "output_type": "display_data"
    }
   ],
   "source": [
    "kmeans = KMeans(n_clusters = 4, random_state = 2, n_init =10).fit(loc_df)\n",
    "loc_df['label'] = kmeans.labels_\n",
    "plt.figure(figsize = (7,7))\n",
    "for label in loc_df.label.unique():\n",
    "    plt.plot(loc_df.longitude[loc_df.label==label],loc_df.latitude[loc_df.label==label],'.',markersize = 10)\n",
    "plt.title('Results of Kmeans when n_clusters is 4')\n",
    "plt.show()"
   ]
  },
  {
   "cell_type": "code",
   "execution_count": 65,
   "id": "1b842e0a",
   "metadata": {},
   "outputs": [
    {
     "data": {
      "image/png": "[encoded data removed]",
      "text/plain": [
       "<Figure size 504x504 with 1 Axes>"
      ]
     },
     "metadata": {
      "needs_background": "light"
     },
     "output_type": "display_data"
    }
   ],
   "source": [
    "kmeans = KMeans(n_clusters = 5, random_state = 2, n_init =10).fit(loc_df)\n",
    "loc_df['label'] = kmeans.labels_\n",
    "plt.figure(figsize = (7,7))\n",
    "for label in loc_df.label.unique():\n",
    "    plt.plot(loc_df.longitude[loc_df.label==label],loc_df.latitude[loc_df.label==label],'.',markersize = 10)\n",
    "plt.title('Results of Kmeans when n_clusters is 5')\n",
    "plt.show()"
   ]
  },
  {
   "cell_type": "code",
   "execution_count": 66,
   "id": "aaa69f64",
   "metadata": {},
   "outputs": [],
   "source": [
    "train_df2 = train_df.replace('*',-110)"
   ]
  },
  {
   "cell_type": "code",
   "execution_count": 67,
   "id": "e912949c",
   "metadata": {},
   "outputs": [
    {
     "data": {
      "text/plain": [
       "(1058, 204)"
      ]
     },
     "execution_count": 67,
     "metadata": {},
     "output_type": "execute_result"
    }
   ],
   "source": [
    "train_df2.shape"
   ]
  },
  {
   "cell_type": "code",
   "execution_count": 68,
   "id": "598b4da6",
   "metadata": {},
   "outputs": [
    {
     "data": {
      "text/html": [
       "<div>\n",
       "<style scoped>\n",
       "    .dataframe tbody tr th:only-of-type {\n",
       "        vertical-align: middle;\n",
       "    }\n",
       "\n",
       "    .dataframe tbody tr th {\n",
       "        vertical-align: top;\n",
       "    }\n",
       "\n",
       "    .dataframe thead th {\n",
       "        text-align: right;\n",
       "    }\n",
       "</style>\n",
       "<table border=\"1\" class=\"dataframe\">\n",
       "  <thead>\n",
       "    <tr style=\"text-align: right;\">\n",
       "      <th></th>\n",
       "      <th>ID</th>\n",
       "      <th>WAP001</th>\n",
       "      <th>WAP002</th>\n",
       "      <th>WAP003</th>\n",
       "      <th>WAP004</th>\n",
       "      <th>WAP005</th>\n",
       "      <th>WAP006</th>\n",
       "      <th>WAP007</th>\n",
       "      <th>WAP008</th>\n",
       "      <th>WAP009</th>\n",
       "      <th>...</th>\n",
       "      <th>WAP194</th>\n",
       "      <th>WAP195</th>\n",
       "      <th>WAP196</th>\n",
       "      <th>WAP197</th>\n",
       "      <th>WAP198</th>\n",
       "      <th>WAP199</th>\n",
       "      <th>WAP200</th>\n",
       "      <th>LONGITUDE</th>\n",
       "      <th>LATITUDE</th>\n",
       "      <th>FLOOR</th>\n",
       "    </tr>\n",
       "  </thead>\n",
       "  <tbody>\n",
       "    <tr>\n",
       "      <th>0</th>\n",
       "      <td>1</td>\n",
       "      <td>-110</td>\n",
       "      <td>-110</td>\n",
       "      <td>-88</td>\n",
       "      <td>-110</td>\n",
       "      <td>-110</td>\n",
       "      <td>-110</td>\n",
       "      <td>-110</td>\n",
       "      <td>-110</td>\n",
       "      <td>-110</td>\n",
       "      <td>...</td>\n",
       "      <td>-110</td>\n",
       "      <td>-110</td>\n",
       "      <td>-110</td>\n",
       "      <td>-110</td>\n",
       "      <td>-110</td>\n",
       "      <td>-110</td>\n",
       "      <td>-110</td>\n",
       "      <td>10.215255</td>\n",
       "      <td>35.094452</td>\n",
       "      <td>1</td>\n",
       "    </tr>\n",
       "    <tr>\n",
       "      <th>1</th>\n",
       "      <td>2</td>\n",
       "      <td>-110</td>\n",
       "      <td>-110</td>\n",
       "      <td>-87</td>\n",
       "      <td>-110</td>\n",
       "      <td>-110</td>\n",
       "      <td>-110</td>\n",
       "      <td>-110</td>\n",
       "      <td>-110</td>\n",
       "      <td>-110</td>\n",
       "      <td>...</td>\n",
       "      <td>-110</td>\n",
       "      <td>-110</td>\n",
       "      <td>-110</td>\n",
       "      <td>-110</td>\n",
       "      <td>-110</td>\n",
       "      <td>-110</td>\n",
       "      <td>-110</td>\n",
       "      <td>10.215255</td>\n",
       "      <td>35.094452</td>\n",
       "      <td>1</td>\n",
       "    </tr>\n",
       "    <tr>\n",
       "      <th>2</th>\n",
       "      <td>3</td>\n",
       "      <td>-110</td>\n",
       "      <td>-110</td>\n",
       "      <td>-88</td>\n",
       "      <td>-110</td>\n",
       "      <td>-110</td>\n",
       "      <td>-110</td>\n",
       "      <td>-110</td>\n",
       "      <td>-110</td>\n",
       "      <td>-110</td>\n",
       "      <td>...</td>\n",
       "      <td>-110</td>\n",
       "      <td>-110</td>\n",
       "      <td>-110</td>\n",
       "      <td>-110</td>\n",
       "      <td>-110</td>\n",
       "      <td>-110</td>\n",
       "      <td>-110</td>\n",
       "      <td>10.215255</td>\n",
       "      <td>35.094452</td>\n",
       "      <td>1</td>\n",
       "    </tr>\n",
       "    <tr>\n",
       "      <th>3</th>\n",
       "      <td>4</td>\n",
       "      <td>-110</td>\n",
       "      <td>-110</td>\n",
       "      <td>-87</td>\n",
       "      <td>-110</td>\n",
       "      <td>-110</td>\n",
       "      <td>-110</td>\n",
       "      <td>-110</td>\n",
       "      <td>-110</td>\n",
       "      <td>-110</td>\n",
       "      <td>...</td>\n",
       "      <td>-110</td>\n",
       "      <td>-110</td>\n",
       "      <td>-110</td>\n",
       "      <td>-110</td>\n",
       "      <td>-110</td>\n",
       "      <td>-110</td>\n",
       "      <td>-110</td>\n",
       "      <td>10.215255</td>\n",
       "      <td>35.094452</td>\n",
       "      <td>1</td>\n",
       "    </tr>\n",
       "    <tr>\n",
       "      <th>4</th>\n",
       "      <td>5</td>\n",
       "      <td>-110</td>\n",
       "      <td>-110</td>\n",
       "      <td>-87</td>\n",
       "      <td>-110</td>\n",
       "      <td>-110</td>\n",
       "      <td>-110</td>\n",
       "      <td>-110</td>\n",
       "      <td>-110</td>\n",
       "      <td>-110</td>\n",
       "      <td>...</td>\n",
       "      <td>-110</td>\n",
       "      <td>-110</td>\n",
       "      <td>-110</td>\n",
       "      <td>-110</td>\n",
       "      <td>-110</td>\n",
       "      <td>-110</td>\n",
       "      <td>-110</td>\n",
       "      <td>10.215255</td>\n",
       "      <td>35.094452</td>\n",
       "      <td>1</td>\n",
       "    </tr>\n",
       "    <tr>\n",
       "      <th>...</th>\n",
       "      <td>...</td>\n",
       "      <td>...</td>\n",
       "      <td>...</td>\n",
       "      <td>...</td>\n",
       "      <td>...</td>\n",
       "      <td>...</td>\n",
       "      <td>...</td>\n",
       "      <td>...</td>\n",
       "      <td>...</td>\n",
       "      <td>...</td>\n",
       "      <td>...</td>\n",
       "      <td>...</td>\n",
       "      <td>...</td>\n",
       "      <td>...</td>\n",
       "      <td>...</td>\n",
       "      <td>...</td>\n",
       "      <td>...</td>\n",
       "      <td>...</td>\n",
       "      <td>...</td>\n",
       "      <td>...</td>\n",
       "      <td>...</td>\n",
       "    </tr>\n",
       "    <tr>\n",
       "      <th>1053</th>\n",
       "      <td>1054</td>\n",
       "      <td>-110</td>\n",
       "      <td>-110</td>\n",
       "      <td>-110</td>\n",
       "      <td>-91</td>\n",
       "      <td>-110</td>\n",
       "      <td>-110</td>\n",
       "      <td>-110</td>\n",
       "      <td>-110</td>\n",
       "      <td>-110</td>\n",
       "      <td>...</td>\n",
       "      <td>-110</td>\n",
       "      <td>-110</td>\n",
       "      <td>-110</td>\n",
       "      <td>-110</td>\n",
       "      <td>-110</td>\n",
       "      <td>-110</td>\n",
       "      <td>-110</td>\n",
       "      <td>108.897355</td>\n",
       "      <td>91.261952</td>\n",
       "      <td>1</td>\n",
       "    </tr>\n",
       "    <tr>\n",
       "      <th>1054</th>\n",
       "      <td>1055</td>\n",
       "      <td>-110</td>\n",
       "      <td>-110</td>\n",
       "      <td>-110</td>\n",
       "      <td>-110</td>\n",
       "      <td>-110</td>\n",
       "      <td>-110</td>\n",
       "      <td>-110</td>\n",
       "      <td>-110</td>\n",
       "      <td>-110</td>\n",
       "      <td>...</td>\n",
       "      <td>-110</td>\n",
       "      <td>-110</td>\n",
       "      <td>-110</td>\n",
       "      <td>-110</td>\n",
       "      <td>-110</td>\n",
       "      <td>-110</td>\n",
       "      <td>-110</td>\n",
       "      <td>108.897355</td>\n",
       "      <td>91.261952</td>\n",
       "      <td>1</td>\n",
       "    </tr>\n",
       "    <tr>\n",
       "      <th>1055</th>\n",
       "      <td>1056</td>\n",
       "      <td>-110</td>\n",
       "      <td>-110</td>\n",
       "      <td>-110</td>\n",
       "      <td>-110</td>\n",
       "      <td>-110</td>\n",
       "      <td>-110</td>\n",
       "      <td>-110</td>\n",
       "      <td>-110</td>\n",
       "      <td>-110</td>\n",
       "      <td>...</td>\n",
       "      <td>-110</td>\n",
       "      <td>-110</td>\n",
       "      <td>-110</td>\n",
       "      <td>-110</td>\n",
       "      <td>-110</td>\n",
       "      <td>-110</td>\n",
       "      <td>-110</td>\n",
       "      <td>108.897355</td>\n",
       "      <td>91.261952</td>\n",
       "      <td>1</td>\n",
       "    </tr>\n",
       "    <tr>\n",
       "      <th>1056</th>\n",
       "      <td>1057</td>\n",
       "      <td>-110</td>\n",
       "      <td>-110</td>\n",
       "      <td>-110</td>\n",
       "      <td>-110</td>\n",
       "      <td>-110</td>\n",
       "      <td>-110</td>\n",
       "      <td>-110</td>\n",
       "      <td>-110</td>\n",
       "      <td>-110</td>\n",
       "      <td>...</td>\n",
       "      <td>-110</td>\n",
       "      <td>-110</td>\n",
       "      <td>-110</td>\n",
       "      <td>-110</td>\n",
       "      <td>-110</td>\n",
       "      <td>-110</td>\n",
       "      <td>-110</td>\n",
       "      <td>108.897355</td>\n",
       "      <td>91.261952</td>\n",
       "      <td>1</td>\n",
       "    </tr>\n",
       "    <tr>\n",
       "      <th>1057</th>\n",
       "      <td>1058</td>\n",
       "      <td>-110</td>\n",
       "      <td>-110</td>\n",
       "      <td>-110</td>\n",
       "      <td>-110</td>\n",
       "      <td>-110</td>\n",
       "      <td>-110</td>\n",
       "      <td>-110</td>\n",
       "      <td>-110</td>\n",
       "      <td>-110</td>\n",
       "      <td>...</td>\n",
       "      <td>-110</td>\n",
       "      <td>-110</td>\n",
       "      <td>-110</td>\n",
       "      <td>-110</td>\n",
       "      <td>-110</td>\n",
       "      <td>-110</td>\n",
       "      <td>-110</td>\n",
       "      <td>108.897355</td>\n",
       "      <td>91.261952</td>\n",
       "      <td>1</td>\n",
       "    </tr>\n",
       "  </tbody>\n",
       "</table>\n",
       "<p>1058 rows × 204 columns</p>\n",
       "</div>"
      ],
      "text/plain": [
       "        ID  WAP001  WAP002 WAP003 WAP004 WAP005 WAP006 WAP007 WAP008 WAP009  \\\n",
       "0        1    -110    -110    -88   -110   -110   -110   -110   -110   -110   \n",
       "1        2    -110    -110    -87   -110   -110   -110   -110   -110   -110   \n",
       "2        3    -110    -110    -88   -110   -110   -110   -110   -110   -110   \n",
       "3        4    -110    -110    -87   -110   -110   -110   -110   -110   -110   \n",
       "4        5    -110    -110    -87   -110   -110   -110   -110   -110   -110   \n",
       "...    ...     ...     ...    ...    ...    ...    ...    ...    ...    ...   \n",
       "1053  1054    -110    -110   -110    -91   -110   -110   -110   -110   -110   \n",
       "1054  1055    -110    -110   -110   -110   -110   -110   -110   -110   -110   \n",
       "1055  1056    -110    -110   -110   -110   -110   -110   -110   -110   -110   \n",
       "1056  1057    -110    -110   -110   -110   -110   -110   -110   -110   -110   \n",
       "1057  1058    -110    -110   -110   -110   -110   -110   -110   -110   -110   \n",
       "\n",
       "      ... WAP194 WAP195 WAP196 WAP197 WAP198 WAP199 WAP200   LONGITUDE  \\\n",
       "0     ...   -110   -110   -110   -110   -110   -110   -110   10.215255   \n",
       "1     ...   -110   -110   -110   -110   -110   -110   -110   10.215255   \n",
       "2     ...   -110   -110   -110   -110   -110   -110   -110   10.215255   \n",
       "3     ...   -110   -110   -110   -110   -110   -110   -110   10.215255   \n",
       "4     ...   -110   -110   -110   -110   -110   -110   -110   10.215255   \n",
       "...   ...    ...    ...    ...    ...    ...    ...    ...         ...   \n",
       "1053  ...   -110   -110   -110   -110   -110   -110   -110  108.897355   \n",
       "1054  ...   -110   -110   -110   -110   -110   -110   -110  108.897355   \n",
       "1055  ...   -110   -110   -110   -110   -110   -110   -110  108.897355   \n",
       "1056  ...   -110   -110   -110   -110   -110   -110   -110  108.897355   \n",
       "1057  ...   -110   -110   -110   -110   -110   -110   -110  108.897355   \n",
       "\n",
       "       LATITUDE FLOOR  \n",
       "0     35.094452     1  \n",
       "1     35.094452     1  \n",
       "2     35.094452     1  \n",
       "3     35.094452     1  \n",
       "4     35.094452     1  \n",
       "...         ...   ...  \n",
       "1053  91.261952     1  \n",
       "1054  91.261952     1  \n",
       "1055  91.261952     1  \n",
       "1056  91.261952     1  \n",
       "1057  91.261952     1  \n",
       "\n",
       "[1058 rows x 204 columns]"
      ]
     },
     "execution_count": 68,
     "metadata": {},
     "output_type": "execute_result"
    }
   ],
   "source": [
    "train_df2"
   ]
  },
  {
   "cell_type": "code",
   "execution_count": 69,
   "id": "63d7a0d6",
   "metadata": {},
   "outputs": [],
   "source": [
    "#将数据标准化处理\n",
    "train_df2_features = scale(np.asarray(train_df2.iloc[:,1:201]).astype(float), axis =1)\n"
   ]
  },
  {
   "cell_type": "code",
   "execution_count": 70,
   "id": "bea2abd0",
   "metadata": {},
   "outputs": [
    {
     "data": {
      "text/plain": [
       "2.2565440379526812e-17"
      ]
     },
     "execution_count": 70,
     "metadata": {},
     "output_type": "execute_result"
    }
   ],
   "source": [
    "train_df2_features.mean()"
   ]
  },
  {
   "cell_type": "code",
   "execution_count": 71,
   "id": "5a459f66",
   "metadata": {},
   "outputs": [
    {
     "data": {
      "text/plain": [
       "0.9999999999999999"
      ]
     },
     "execution_count": 71,
     "metadata": {},
     "output_type": "execute_result"
    }
   ],
   "source": [
    "train_df2_features.std()"
   ]
  },
  {
   "cell_type": "code",
   "execution_count": 72,
   "id": "5dc6503b",
   "metadata": {},
   "outputs": [
    {
     "data": {
      "text/plain": [
       "(1058, 200)"
      ]
     },
     "execution_count": 72,
     "metadata": {},
     "output_type": "execute_result"
    }
   ],
   "source": [
    "train_df2_features.shape"
   ]
  },
  {
   "cell_type": "code",
   "execution_count": 73,
   "id": "55d39e3d",
   "metadata": {},
   "outputs": [],
   "source": [
    "kmeans = KMeans(n_clusters = 4, random_state = 2, n_init =10).fit(train_df2_features)"
   ]
  },
  {
   "cell_type": "code",
   "execution_count": 74,
   "id": "03f694fc",
   "metadata": {},
   "outputs": [],
   "source": [
    "label = kmeans.labels_"
   ]
  },
  {
   "cell_type": "code",
   "execution_count": 75,
   "id": "167c1410",
   "metadata": {},
   "outputs": [
    {
     "data": {
      "text/plain": [
       "(1058,)"
      ]
     },
     "execution_count": 75,
     "metadata": {},
     "output_type": "execute_result"
    }
   ],
   "source": [
    "label.shape"
   ]
  },
  {
   "cell_type": "code",
   "execution_count": 76,
   "id": "6a688e8c",
   "metadata": {},
   "outputs": [
    {
     "name": "stderr",
     "output_type": "stream",
     "text": [
      "C:\\Users\\Codex\\AppData\\Local\\Temp\\ipykernel_15740\\4214575875.py:1: PerformanceWarning: DataFrame is highly fragmented.  This is usually the result of calling `frame.insert` many times, which has poor performance.  Consider joining all columns at once using pd.concat(axis=1) instead. To get a de-fragmented frame, use `newframe = frame.copy()`\n",
      "  train_df2['label'] = kmeans.labels_\n"
     ]
    }
   ],
   "source": [
    "train_df2['label'] = kmeans.labels_"
   ]
  },
  {
   "cell_type": "code",
   "execution_count": 77,
   "id": "a0026184",
   "metadata": {},
   "outputs": [
    {
     "data": {
      "text/html": [
       "<div>\n",
       "<style scoped>\n",
       "    .dataframe tbody tr th:only-of-type {\n",
       "        vertical-align: middle;\n",
       "    }\n",
       "\n",
       "    .dataframe tbody tr th {\n",
       "        vertical-align: top;\n",
       "    }\n",
       "\n",
       "    .dataframe thead th {\n",
       "        text-align: right;\n",
       "    }\n",
       "</style>\n",
       "<table border=\"1\" class=\"dataframe\">\n",
       "  <thead>\n",
       "    <tr style=\"text-align: right;\">\n",
       "      <th></th>\n",
       "      <th>ID</th>\n",
       "      <th>WAP001</th>\n",
       "      <th>WAP002</th>\n",
       "      <th>WAP003</th>\n",
       "      <th>WAP004</th>\n",
       "      <th>WAP005</th>\n",
       "      <th>WAP006</th>\n",
       "      <th>WAP007</th>\n",
       "      <th>WAP008</th>\n",
       "      <th>WAP009</th>\n",
       "      <th>...</th>\n",
       "      <th>WAP195</th>\n",
       "      <th>WAP196</th>\n",
       "      <th>WAP197</th>\n",
       "      <th>WAP198</th>\n",
       "      <th>WAP199</th>\n",
       "      <th>WAP200</th>\n",
       "      <th>LONGITUDE</th>\n",
       "      <th>LATITUDE</th>\n",
       "      <th>FLOOR</th>\n",
       "      <th>label</th>\n",
       "    </tr>\n",
       "  </thead>\n",
       "  <tbody>\n",
       "    <tr>\n",
       "      <th>0</th>\n",
       "      <td>1</td>\n",
       "      <td>-110</td>\n",
       "      <td>-110</td>\n",
       "      <td>-88</td>\n",
       "      <td>-110</td>\n",
       "      <td>-110</td>\n",
       "      <td>-110</td>\n",
       "      <td>-110</td>\n",
       "      <td>-110</td>\n",
       "      <td>-110</td>\n",
       "      <td>...</td>\n",
       "      <td>-110</td>\n",
       "      <td>-110</td>\n",
       "      <td>-110</td>\n",
       "      <td>-110</td>\n",
       "      <td>-110</td>\n",
       "      <td>-110</td>\n",
       "      <td>10.215255</td>\n",
       "      <td>35.094452</td>\n",
       "      <td>1</td>\n",
       "      <td>2</td>\n",
       "    </tr>\n",
       "    <tr>\n",
       "      <th>1</th>\n",
       "      <td>2</td>\n",
       "      <td>-110</td>\n",
       "      <td>-110</td>\n",
       "      <td>-87</td>\n",
       "      <td>-110</td>\n",
       "      <td>-110</td>\n",
       "      <td>-110</td>\n",
       "      <td>-110</td>\n",
       "      <td>-110</td>\n",
       "      <td>-110</td>\n",
       "      <td>...</td>\n",
       "      <td>-110</td>\n",
       "      <td>-110</td>\n",
       "      <td>-110</td>\n",
       "      <td>-110</td>\n",
       "      <td>-110</td>\n",
       "      <td>-110</td>\n",
       "      <td>10.215255</td>\n",
       "      <td>35.094452</td>\n",
       "      <td>1</td>\n",
       "      <td>2</td>\n",
       "    </tr>\n",
       "    <tr>\n",
       "      <th>2</th>\n",
       "      <td>3</td>\n",
       "      <td>-110</td>\n",
       "      <td>-110</td>\n",
       "      <td>-88</td>\n",
       "      <td>-110</td>\n",
       "      <td>-110</td>\n",
       "      <td>-110</td>\n",
       "      <td>-110</td>\n",
       "      <td>-110</td>\n",
       "      <td>-110</td>\n",
       "      <td>...</td>\n",
       "      <td>-110</td>\n",
       "      <td>-110</td>\n",
       "      <td>-110</td>\n",
       "      <td>-110</td>\n",
       "      <td>-110</td>\n",
       "      <td>-110</td>\n",
       "      <td>10.215255</td>\n",
       "      <td>35.094452</td>\n",
       "      <td>1</td>\n",
       "      <td>2</td>\n",
       "    </tr>\n",
       "    <tr>\n",
       "      <th>3</th>\n",
       "      <td>4</td>\n",
       "      <td>-110</td>\n",
       "      <td>-110</td>\n",
       "      <td>-87</td>\n",
       "      <td>-110</td>\n",
       "      <td>-110</td>\n",
       "      <td>-110</td>\n",
       "      <td>-110</td>\n",
       "      <td>-110</td>\n",
       "      <td>-110</td>\n",
       "      <td>...</td>\n",
       "      <td>-110</td>\n",
       "      <td>-110</td>\n",
       "      <td>-110</td>\n",
       "      <td>-110</td>\n",
       "      <td>-110</td>\n",
       "      <td>-110</td>\n",
       "      <td>10.215255</td>\n",
       "      <td>35.094452</td>\n",
       "      <td>1</td>\n",
       "      <td>2</td>\n",
       "    </tr>\n",
       "    <tr>\n",
       "      <th>4</th>\n",
       "      <td>5</td>\n",
       "      <td>-110</td>\n",
       "      <td>-110</td>\n",
       "      <td>-87</td>\n",
       "      <td>-110</td>\n",
       "      <td>-110</td>\n",
       "      <td>-110</td>\n",
       "      <td>-110</td>\n",
       "      <td>-110</td>\n",
       "      <td>-110</td>\n",
       "      <td>...</td>\n",
       "      <td>-110</td>\n",
       "      <td>-110</td>\n",
       "      <td>-110</td>\n",
       "      <td>-110</td>\n",
       "      <td>-110</td>\n",
       "      <td>-110</td>\n",
       "      <td>10.215255</td>\n",
       "      <td>35.094452</td>\n",
       "      <td>1</td>\n",
       "      <td>2</td>\n",
       "    </tr>\n",
       "    <tr>\n",
       "      <th>...</th>\n",
       "      <td>...</td>\n",
       "      <td>...</td>\n",
       "      <td>...</td>\n",
       "      <td>...</td>\n",
       "      <td>...</td>\n",
       "      <td>...</td>\n",
       "      <td>...</td>\n",
       "      <td>...</td>\n",
       "      <td>...</td>\n",
       "      <td>...</td>\n",
       "      <td>...</td>\n",
       "      <td>...</td>\n",
       "      <td>...</td>\n",
       "      <td>...</td>\n",
       "      <td>...</td>\n",
       "      <td>...</td>\n",
       "      <td>...</td>\n",
       "      <td>...</td>\n",
       "      <td>...</td>\n",
       "      <td>...</td>\n",
       "      <td>...</td>\n",
       "    </tr>\n",
       "    <tr>\n",
       "      <th>1053</th>\n",
       "      <td>1054</td>\n",
       "      <td>-110</td>\n",
       "      <td>-110</td>\n",
       "      <td>-110</td>\n",
       "      <td>-91</td>\n",
       "      <td>-110</td>\n",
       "      <td>-110</td>\n",
       "      <td>-110</td>\n",
       "      <td>-110</td>\n",
       "      <td>-110</td>\n",
       "      <td>...</td>\n",
       "      <td>-110</td>\n",
       "      <td>-110</td>\n",
       "      <td>-110</td>\n",
       "      <td>-110</td>\n",
       "      <td>-110</td>\n",
       "      <td>-110</td>\n",
       "      <td>108.897355</td>\n",
       "      <td>91.261952</td>\n",
       "      <td>1</td>\n",
       "      <td>1</td>\n",
       "    </tr>\n",
       "    <tr>\n",
       "      <th>1054</th>\n",
       "      <td>1055</td>\n",
       "      <td>-110</td>\n",
       "      <td>-110</td>\n",
       "      <td>-110</td>\n",
       "      <td>-110</td>\n",
       "      <td>-110</td>\n",
       "      <td>-110</td>\n",
       "      <td>-110</td>\n",
       "      <td>-110</td>\n",
       "      <td>-110</td>\n",
       "      <td>...</td>\n",
       "      <td>-110</td>\n",
       "      <td>-110</td>\n",
       "      <td>-110</td>\n",
       "      <td>-110</td>\n",
       "      <td>-110</td>\n",
       "      <td>-110</td>\n",
       "      <td>108.897355</td>\n",
       "      <td>91.261952</td>\n",
       "      <td>1</td>\n",
       "      <td>1</td>\n",
       "    </tr>\n",
       "    <tr>\n",
       "      <th>1055</th>\n",
       "      <td>1056</td>\n",
       "      <td>-110</td>\n",
       "      <td>-110</td>\n",
       "      <td>-110</td>\n",
       "      <td>-110</td>\n",
       "      <td>-110</td>\n",
       "      <td>-110</td>\n",
       "      <td>-110</td>\n",
       "      <td>-110</td>\n",
       "      <td>-110</td>\n",
       "      <td>...</td>\n",
       "      <td>-110</td>\n",
       "      <td>-110</td>\n",
       "      <td>-110</td>\n",
       "      <td>-110</td>\n",
       "      <td>-110</td>\n",
       "      <td>-110</td>\n",
       "      <td>108.897355</td>\n",
       "      <td>91.261952</td>\n",
       "      <td>1</td>\n",
       "      <td>1</td>\n",
       "    </tr>\n",
       "    <tr>\n",
       "      <th>1056</th>\n",
       "      <td>1057</td>\n",
       "      <td>-110</td>\n",
       "      <td>-110</td>\n",
       "      <td>-110</td>\n",
       "      <td>-110</td>\n",
       "      <td>-110</td>\n",
       "      <td>-110</td>\n",
       "      <td>-110</td>\n",
       "      <td>-110</td>\n",
       "      <td>-110</td>\n",
       "      <td>...</td>\n",
       "      <td>-110</td>\n",
       "      <td>-110</td>\n",
       "      <td>-110</td>\n",
       "      <td>-110</td>\n",
       "      <td>-110</td>\n",
       "      <td>-110</td>\n",
       "      <td>108.897355</td>\n",
       "      <td>91.261952</td>\n",
       "      <td>1</td>\n",
       "      <td>1</td>\n",
       "    </tr>\n",
       "    <tr>\n",
       "      <th>1057</th>\n",
       "      <td>1058</td>\n",
       "      <td>-110</td>\n",
       "      <td>-110</td>\n",
       "      <td>-110</td>\n",
       "      <td>-110</td>\n",
       "      <td>-110</td>\n",
       "      <td>-110</td>\n",
       "      <td>-110</td>\n",
       "      <td>-110</td>\n",
       "      <td>-110</td>\n",
       "      <td>...</td>\n",
       "      <td>-110</td>\n",
       "      <td>-110</td>\n",
       "      <td>-110</td>\n",
       "      <td>-110</td>\n",
       "      <td>-110</td>\n",
       "      <td>-110</td>\n",
       "      <td>108.897355</td>\n",
       "      <td>91.261952</td>\n",
       "      <td>1</td>\n",
       "      <td>1</td>\n",
       "    </tr>\n",
       "  </tbody>\n",
       "</table>\n",
       "<p>1058 rows × 205 columns</p>\n",
       "</div>"
      ],
      "text/plain": [
       "        ID  WAP001  WAP002 WAP003 WAP004 WAP005 WAP006 WAP007 WAP008 WAP009  \\\n",
       "0        1    -110    -110    -88   -110   -110   -110   -110   -110   -110   \n",
       "1        2    -110    -110    -87   -110   -110   -110   -110   -110   -110   \n",
       "2        3    -110    -110    -88   -110   -110   -110   -110   -110   -110   \n",
       "3        4    -110    -110    -87   -110   -110   -110   -110   -110   -110   \n",
       "4        5    -110    -110    -87   -110   -110   -110   -110   -110   -110   \n",
       "...    ...     ...     ...    ...    ...    ...    ...    ...    ...    ...   \n",
       "1053  1054    -110    -110   -110    -91   -110   -110   -110   -110   -110   \n",
       "1054  1055    -110    -110   -110   -110   -110   -110   -110   -110   -110   \n",
       "1055  1056    -110    -110   -110   -110   -110   -110   -110   -110   -110   \n",
       "1056  1057    -110    -110   -110   -110   -110   -110   -110   -110   -110   \n",
       "1057  1058    -110    -110   -110   -110   -110   -110   -110   -110   -110   \n",
       "\n",
       "      ... WAP195 WAP196 WAP197 WAP198 WAP199 WAP200   LONGITUDE   LATITUDE  \\\n",
       "0     ...   -110   -110   -110   -110   -110   -110   10.215255  35.094452   \n",
       "1     ...   -110   -110   -110   -110   -110   -110   10.215255  35.094452   \n",
       "2     ...   -110   -110   -110   -110   -110   -110   10.215255  35.094452   \n",
       "3     ...   -110   -110   -110   -110   -110   -110   10.215255  35.094452   \n",
       "4     ...   -110   -110   -110   -110   -110   -110   10.215255  35.094452   \n",
       "...   ...    ...    ...    ...    ...    ...    ...         ...        ...   \n",
       "1053  ...   -110   -110   -110   -110   -110   -110  108.897355  91.261952   \n",
       "1054  ...   -110   -110   -110   -110   -110   -110  108.897355  91.261952   \n",
       "1055  ...   -110   -110   -110   -110   -110   -110  108.897355  91.261952   \n",
       "1056  ...   -110   -110   -110   -110   -110   -110  108.897355  91.261952   \n",
       "1057  ...   -110   -110   -110   -110   -110   -110  108.897355  91.261952   \n",
       "\n",
       "     FLOOR label  \n",
       "0        1     2  \n",
       "1        1     2  \n",
       "2        1     2  \n",
       "3        1     2  \n",
       "4        1     2  \n",
       "...    ...   ...  \n",
       "1053     1     1  \n",
       "1054     1     1  \n",
       "1055     1     1  \n",
       "1056     1     1  \n",
       "1057     1     1  \n",
       "\n",
       "[1058 rows x 205 columns]"
      ]
     },
     "execution_count": 77,
     "metadata": {},
     "output_type": "execute_result"
    }
   ],
   "source": [
    "train_df2"
   ]
  },
  {
   "cell_type": "code",
   "execution_count": 78,
   "id": "4f50e5ba",
   "metadata": {},
   "outputs": [],
   "source": [
    "loc_df2 = pd.DataFrame()\n",
    "loc_df2['longitude'] = train_df.LONGITUDE\n",
    "loc_df2['latitude'] = train_df.LATITUDE"
   ]
  },
  {
   "cell_type": "code",
   "execution_count": 79,
   "id": "9b5bc5a5",
   "metadata": {},
   "outputs": [],
   "source": [
    "loc_df2['label'] = kmeans.labels_"
   ]
  },
  {
   "cell_type": "code",
   "execution_count": 80,
   "id": "881b48b5",
   "metadata": {},
   "outputs": [
    {
     "data": {
      "text/html": [
       "<div>\n",
       "<style scoped>\n",
       "    .dataframe tbody tr th:only-of-type {\n",
       "        vertical-align: middle;\n",
       "    }\n",
       "\n",
       "    .dataframe tbody tr th {\n",
       "        vertical-align: top;\n",
       "    }\n",
       "\n",
       "    .dataframe thead th {\n",
       "        text-align: right;\n",
       "    }\n",
       "</style>\n",
       "<table border=\"1\" class=\"dataframe\">\n",
       "  <thead>\n",
       "    <tr style=\"text-align: right;\">\n",
       "      <th></th>\n",
       "      <th>longitude</th>\n",
       "      <th>latitude</th>\n",
       "      <th>label</th>\n",
       "    </tr>\n",
       "  </thead>\n",
       "  <tbody>\n",
       "    <tr>\n",
       "      <th>0</th>\n",
       "      <td>10.215255</td>\n",
       "      <td>35.094452</td>\n",
       "      <td>2</td>\n",
       "    </tr>\n",
       "    <tr>\n",
       "      <th>1</th>\n",
       "      <td>10.215255</td>\n",
       "      <td>35.094452</td>\n",
       "      <td>2</td>\n",
       "    </tr>\n",
       "    <tr>\n",
       "      <th>2</th>\n",
       "      <td>10.215255</td>\n",
       "      <td>35.094452</td>\n",
       "      <td>2</td>\n",
       "    </tr>\n",
       "    <tr>\n",
       "      <th>3</th>\n",
       "      <td>10.215255</td>\n",
       "      <td>35.094452</td>\n",
       "      <td>2</td>\n",
       "    </tr>\n",
       "    <tr>\n",
       "      <th>4</th>\n",
       "      <td>10.215255</td>\n",
       "      <td>35.094452</td>\n",
       "      <td>2</td>\n",
       "    </tr>\n",
       "    <tr>\n",
       "      <th>...</th>\n",
       "      <td>...</td>\n",
       "      <td>...</td>\n",
       "      <td>...</td>\n",
       "    </tr>\n",
       "    <tr>\n",
       "      <th>1053</th>\n",
       "      <td>108.897355</td>\n",
       "      <td>91.261952</td>\n",
       "      <td>1</td>\n",
       "    </tr>\n",
       "    <tr>\n",
       "      <th>1054</th>\n",
       "      <td>108.897355</td>\n",
       "      <td>91.261952</td>\n",
       "      <td>1</td>\n",
       "    </tr>\n",
       "    <tr>\n",
       "      <th>1055</th>\n",
       "      <td>108.897355</td>\n",
       "      <td>91.261952</td>\n",
       "      <td>1</td>\n",
       "    </tr>\n",
       "    <tr>\n",
       "      <th>1056</th>\n",
       "      <td>108.897355</td>\n",
       "      <td>91.261952</td>\n",
       "      <td>1</td>\n",
       "    </tr>\n",
       "    <tr>\n",
       "      <th>1057</th>\n",
       "      <td>108.897355</td>\n",
       "      <td>91.261952</td>\n",
       "      <td>1</td>\n",
       "    </tr>\n",
       "  </tbody>\n",
       "</table>\n",
       "<p>1058 rows × 3 columns</p>\n",
       "</div>"
      ],
      "text/plain": [
       "       longitude   latitude  label\n",
       "0      10.215255  35.094452      2\n",
       "1      10.215255  35.094452      2\n",
       "2      10.215255  35.094452      2\n",
       "3      10.215255  35.094452      2\n",
       "4      10.215255  35.094452      2\n",
       "...          ...        ...    ...\n",
       "1053  108.897355  91.261952      1\n",
       "1054  108.897355  91.261952      1\n",
       "1055  108.897355  91.261952      1\n",
       "1056  108.897355  91.261952      1\n",
       "1057  108.897355  91.261952      1\n",
       "\n",
       "[1058 rows x 3 columns]"
      ]
     },
     "execution_count": 80,
     "metadata": {},
     "output_type": "execute_result"
    }
   ],
   "source": [
    "loc_df2"
   ]
  },
  {
   "cell_type": "code",
   "execution_count": 81,
   "id": "dd18f127",
   "metadata": {},
   "outputs": [
    {
     "name": "stdout",
     "output_type": "stream",
     "text": [
      "0      10.215255\n",
      "1      10.215255\n",
      "2      10.215255\n",
      "3      10.215255\n",
      "4      10.215255\n",
      "         ...    \n",
      "654    58.681755\n",
      "655    58.681755\n",
      "656    58.681755\n",
      "657    58.681755\n",
      "658    58.681755\n",
      "Name: longitude, Length: 194, dtype: float64\n",
      "113    20.586255\n",
      "141    26.705255\n",
      "142    26.705255\n",
      "143    26.705255\n",
      "144    26.705255\n",
      "         ...    \n",
      "713    58.978555\n",
      "714    58.978555\n",
      "715    58.978555\n",
      "716    58.978555\n",
      "717    58.978555\n",
      "Name: longitude, Length: 347, dtype: float64\n",
      "401      54.314155\n",
      "402      54.314155\n",
      "403      54.314155\n",
      "404      54.314155\n",
      "405      54.314155\n",
      "           ...    \n",
      "1043    106.937255\n",
      "1044    106.937255\n",
      "1045    106.937255\n",
      "1046    106.937255\n",
      "1047    106.937255\n",
      "Name: longitude, Length: 325, dtype: float64\n",
      "587      57.095555\n",
      "604      57.871055\n",
      "607      57.871055\n",
      "669      58.713055\n",
      "670      58.713055\n",
      "           ...    \n",
      "1053    108.897355\n",
      "1054    108.897355\n",
      "1055    108.897355\n",
      "1056    108.897355\n",
      "1057    108.897355\n",
      "Name: longitude, Length: 192, dtype: float64\n"
     ]
    },
    {
     "data": {
      "text/plain": [
       "Text(0.5, 1.0, 'Results of Kmeans when n_clusters is 4')"
      ]
     },
     "execution_count": 81,
     "metadata": {},
     "output_type": "execute_result"
    },
    {
     "data": {
      "image/png": "[encoded data removed]",
      "text/plain": [
       "<Figure size 504x504 with 1 Axes>"
      ]
     },
     "metadata": {
      "needs_background": "light"
     },
     "output_type": "display_data"
    }
   ],
   "source": [
    "plt.figure(figsize = (7,7))\n",
    "for label in loc_df2.label.unique():\n",
    "    print(loc_df2.longitude[loc_df2.label==label])\n",
    "    plt.plot(loc_df2.longitude[loc_df2.label==label],loc_df2.latitude[loc_df2.label==label],'.',markersize = 10)\n",
    "plt.title('Results of Kmeans when n_clusters is 4')\n",
    "\n",
    "#plt.show()"
   ]
  },
  {
   "cell_type": "code",
   "execution_count": 82,
   "id": "296df0b1",
   "metadata": {},
   "outputs": [
    {
     "data": {
      "image/png": "[encoded data removed]",
      "text/plain": [
       "<Figure size 504x504 with 1 Axes>"
      ]
     },
     "metadata": {
      "needs_background": "light"
     },
     "output_type": "display_data"
    }
   ],
   "source": [
    "kmeans = KMeans(n_clusters = 5, random_state = 2, n_init =10).fit(train_df2_features)\n",
    "label = kmeans.labels_\n",
    "loc_df2 = pd.DataFrame()\n",
    "loc_df2['longitude'] = train_df.LONGITUDE\n",
    "loc_df2['latitude'] = train_df.LATITUDE\n",
    "loc_df2['label'] = kmeans.labels_\n",
    "plt.figure(figsize = (7,7))\n",
    "for label in loc_df2.label.unique():\n",
    "    plt.plot(loc_df2.longitude[loc_df2.label==label],loc_df2.latitude[loc_df2.label==label],'.',markersize = 10)\n",
    "plt.title('Results of Kmeans when n_clusters is 5')\n",
    "plt.show()"
   ]
  },
  {
   "cell_type": "code",
   "execution_count": 83,
   "id": "2261fe81",
   "metadata": {},
   "outputs": [],
   "source": [
    "kmeans = KMeans(n_clusters = 5, random_state = 2, n_init =10).fit(train_df2_features)\n",
    "label = kmeans.labels_"
   ]
  },
  {
   "cell_type": "code",
   "execution_count": 84,
   "id": "38ba7d5a",
   "metadata": {},
   "outputs": [
    {
     "data": {
      "text/plain": [
       "array([2, 2, 2, 2, 2, 2, 2, 2, 2, 2, 2, 2, 2, 2, 2, 2, 2, 2, 2, 2, 2, 2,\n",
       "       2, 2, 2, 2, 2, 2, 2, 2, 2, 2, 2, 2, 2, 2, 2, 2, 2, 2, 2, 2, 2, 2,\n",
       "       2, 2, 2, 2, 2, 2, 2, 2, 2, 2, 2, 2, 2, 2, 2, 2, 2, 2, 2, 2, 2, 2,\n",
       "       2, 2, 2, 2, 2, 2, 2, 2, 2, 2, 2, 2, 2, 2, 2, 2, 2, 2, 2, 2, 2, 2,\n",
       "       2, 2, 2, 2, 2, 2, 2, 2, 2, 2, 2, 2, 2, 2, 2, 2, 2, 2, 2, 2, 2, 2,\n",
       "       2, 2, 2, 2, 2, 2, 2, 2, 2, 2, 2, 2, 2, 2, 2, 2, 2, 2, 2, 2, 2, 2,\n",
       "       2, 2, 2, 2, 2, 2, 2, 2, 2, 2, 0, 2, 2, 2, 2, 2, 2, 2, 2, 2, 2, 0,\n",
       "       0, 2, 2, 2, 0, 0, 0, 0, 0, 0, 0, 0, 0, 0, 0, 0, 0, 0, 0, 0, 0, 0,\n",
       "       0, 0, 0, 0, 0, 0, 0, 0, 0, 0, 0, 0, 0, 0, 0, 0, 0, 0, 0, 0, 0, 0,\n",
       "       0, 0, 0, 0, 0, 0, 0, 0, 0, 0, 0, 0, 0, 0, 0, 0, 0, 0, 0, 0, 0, 0,\n",
       "       0, 0, 0, 0, 0, 0, 0, 0, 0, 0, 0, 0, 0, 0, 0, 0, 0, 0, 0, 0, 0, 0,\n",
       "       0, 0, 0, 0, 0, 0, 0, 0, 0, 0, 0, 0, 0, 0, 0, 0, 0, 0, 0, 0, 0, 0,\n",
       "       0, 0, 0, 0, 0, 0, 0, 0, 0, 0, 0, 0, 0, 0, 0, 0, 0, 0, 0, 0, 0, 0,\n",
       "       0, 0, 0, 0, 0, 0, 0, 0, 0, 0, 0, 0, 0, 0, 0, 0, 4, 4, 4, 4, 4, 4,\n",
       "       4, 4, 4, 4, 4, 0, 4, 4, 4, 4, 4, 4, 4, 4, 0, 0, 0, 0, 0, 0, 0, 0,\n",
       "       0, 0, 0, 0, 0, 0, 0, 0, 0, 0, 0, 0, 0, 0, 0, 0, 0, 0, 0, 0, 0, 0,\n",
       "       0, 0, 0, 0, 0, 0, 0, 0, 0, 0, 4, 4, 4, 4, 4, 4, 4, 4, 4, 4, 4, 4,\n",
       "       4, 4, 4, 4, 4, 4, 4, 4, 0, 0, 0, 0, 0, 0, 0, 0, 0, 0, 0, 0, 0, 0,\n",
       "       0, 0, 0, 0, 0, 1, 1, 1, 1, 1, 1, 1, 1, 1, 1, 3, 3, 3, 3, 3, 3, 3,\n",
       "       3, 3, 3, 0, 0, 0, 0, 0, 0, 0, 0, 0, 0, 0, 0, 0, 0, 0, 0, 0, 0, 0,\n",
       "       0, 1, 1, 1, 1, 1, 3, 1, 1, 1, 1, 3, 3, 3, 3, 3, 3, 3, 3, 3, 3, 1,\n",
       "       1, 1, 1, 1, 1, 1, 1, 1, 1, 3, 3, 3, 3, 3, 3, 3, 3, 3, 3, 0, 0, 0,\n",
       "       0, 0, 0, 0, 0, 0, 0, 0, 0, 0, 0, 0, 0, 0, 0, 0])"
      ]
     },
     "execution_count": 84,
     "metadata": {},
     "output_type": "execute_result"
    }
   ],
   "source": [
    "label[:500]"
   ]
  },
  {
   "cell_type": "code",
   "execution_count": 85,
   "id": "4847d035",
   "metadata": {},
   "outputs": [
    {
     "data": {
      "image/png": "[encoded data removed]",
      "text/plain": [
       "<Figure size 504x504 with 1 Axes>"
      ]
     },
     "metadata": {
      "needs_background": "light"
     },
     "output_type": "display_data"
    }
   ],
   "source": [
    "kmeans = KMeans(n_clusters = 2, random_state = 2, n_init =10).fit(train_df2_features)\n",
    "label = kmeans.labels_\n",
    "loc_df2 = pd.DataFrame()\n",
    "loc_df2['longitude'] = train_df.LONGITUDE\n",
    "loc_df2['latitude'] = train_df.LATITUDE\n",
    "loc_df2['label'] = kmeans.labels_\n",
    "plt.figure(figsize = (7,7))\n",
    "for label in loc_df2.label.unique():\n",
    "    plt.plot(loc_df2.longitude[loc_df2.label==label],loc_df2.latitude[loc_df2.label==label],'.',markersize = 10)\n",
    "plt.title('Results of Kmeans when n_clusters is 2')\n",
    "plt.show()"
   ]
  },
  {
   "cell_type": "code",
   "execution_count": 86,
   "id": "54d66c66",
   "metadata": {},
   "outputs": [
    {
     "data": {
      "image/png": "[encoded data removed]",
      "text/plain": [
       "<Figure size 504x504 with 1 Axes>"
      ]
     },
     "metadata": {
      "needs_background": "light"
     },
     "output_type": "display_data"
    }
   ],
   "source": [
    "kmeans = KMeans(n_clusters = 3, random_state = 2, n_init =10).fit(train_df2_features)\n",
    "label = kmeans.labels_\n",
    "loc_df2 = pd.DataFrame()\n",
    "loc_df2['longitude'] = train_df.LONGITUDE\n",
    "loc_df2['latitude'] = train_df.LATITUDE\n",
    "loc_df2['label'] = kmeans.labels_\n",
    "plt.figure(figsize = (7,7))\n",
    "for label in loc_df2.label.unique():\n",
    "    plt.plot(loc_df2.longitude[loc_df2.label==label],loc_df2.latitude[loc_df2.label==label],'.',markersize = 10)\n",
    "plt.title('Results of Kmeans when n_clusters is 3')\n",
    "plt.show()"
   ]
  },
  {
   "cell_type": "code",
   "execution_count": 87,
   "id": "8b7291b4",
   "metadata": {},
   "outputs": [],
   "source": [
    "def get_silhouette_score(n):\n",
    "    kmeans = KMeans(n_clusters = n, random_state = 2, n_init =10).fit(train_df2_features)\n",
    "    label = kmeans.labels_\n",
    "    res = silhouette_samples(train_df2_features,label,metric = 'euclidean')\n",
    "    means = np.mean(res)\n",
    "    return means\n"
   ]
  },
  {
   "cell_type": "code",
   "execution_count": 88,
   "id": "4ffc0b47",
   "metadata": {},
   "outputs": [],
   "source": [
    "score = []\n",
    "for n in range(2,10):\n",
    "    means = get_silhouette_score(n)\n",
    "    score.append(means)"
   ]
  },
  {
   "cell_type": "code",
   "execution_count": 89,
   "id": "124df659",
   "metadata": {},
   "outputs": [
    {
     "data": {
      "text/plain": [
       "[0.42018529512672553,\n",
       " 0.35544573370911825,\n",
       " 0.25295760362866565,\n",
       " 0.2600058604336346,\n",
       " 0.2655126080875631,\n",
       " 0.2920255217464543,\n",
       " 0.3029203890063565,\n",
       " 0.2946798459423072]"
      ]
     },
     "execution_count": 89,
     "metadata": {},
     "output_type": "execute_result"
    }
   ],
   "source": [
    "score"
   ]
  },
  {
   "cell_type": "code",
   "execution_count": 90,
   "id": "898ec248",
   "metadata": {},
   "outputs": [
    {
     "data": {
      "text/plain": [
       "array([[-0.18598672, -0.18598672,  3.40323073, ..., -0.18598672,\n",
       "        -0.18598672, -0.18598672],\n",
       "       [-0.18880777, -0.18880777,  3.31327191, ..., -0.18880777,\n",
       "        -0.18880777, -0.18880777],\n",
       "       [-0.1808101 , -0.1808101 ,  3.46856804, ..., -0.1808101 ,\n",
       "        -0.1808101 , -0.1808101 ],\n",
       "       ...,\n",
       "       [-0.20504687, -0.20504687, -0.20504687, ..., -0.20504687,\n",
       "        -0.20504687, -0.20504687],\n",
       "       [-0.22413217, -0.22413217, -0.22413217, ..., -0.22413217,\n",
       "        -0.22413217, -0.22413217],\n",
       "       [-0.22465963, -0.22465963, -0.22465963, ..., -0.22465963,\n",
       "        -0.22465963, -0.22465963]])"
      ]
     },
     "execution_count": 90,
     "metadata": {},
     "output_type": "execute_result"
    }
   ],
   "source": [
    "train_df2_features"
   ]
  },
  {
   "cell_type": "code",
   "execution_count": 91,
   "id": "f8646c24-140b-4f0a-9b01-8c4a0bad5566",
   "metadata": {},
   "outputs": [],
   "source": [
    "#task3上的第一层分类可视化\n",
    "\n",
    "path = r'E:\\\\学业\\\\IPS\\\\组会\\\\task_3\\\\03_trainingData_B1_withCluster.csv'"
   ]
  },
  {
   "cell_type": "code",
   "execution_count": 92,
   "id": "10846850-517b-4634-8e4d-1e63dc4a9671",
   "metadata": {},
   "outputs": [],
   "source": [
    "with open(path,encoding='utf-8')as f:\n",
    "    data = np.loadtxt(path, dtype=str, delimiter=',')\n",
    "train_df = pd.read_csv(path, header=0)\n",
    "train_df = train_df[:1058]\n",
    "train_df = train_df.replace('*',-110)\n",
    "train_df_label = np.asarray(train_df.iloc[:,204:205])"
   ]
  },
  {
   "cell_type": "code",
   "execution_count": 93,
   "id": "c45225fb-c665-434f-be10-9baba5cb4f65",
   "metadata": {},
   "outputs": [
    {
     "data": {
      "text/plain": [
       "array([[2],\n",
       "       [2],\n",
       "       [2],\n",
       "       ...,\n",
       "       [5],\n",
       "       [5],\n",
       "       [5]], dtype=int64)"
      ]
     },
     "execution_count": 93,
     "metadata": {},
     "output_type": "execute_result"
    }
   ],
   "source": [
    "train_df_label"
   ]
  },
  {
   "cell_type": "code",
   "execution_count": 94,
   "id": "c5a534f0-56c8-4ad7-8474-0cdab4ef27a9",
   "metadata": {},
   "outputs": [
    {
     "data": {
      "image/png": "[encoded data removed]",
      "text/plain": [
       "<Figure size 504x504 with 1 Axes>"
      ]
     },
     "metadata": {
      "needs_background": "light"
     },
     "output_type": "display_data"
    }
   ],
   "source": [
    "#训练集第一层可视化\n",
    "label = train_df_label\n",
    "loc_df2 = pd.DataFrame()\n",
    "loc_df2['longitude'] = train_df.LONGITUDE\n",
    "loc_df2['latitude'] = train_df.LATITUDE\n",
    "loc_df2['label'] = train_df_label\n",
    "plt.figure(figsize = (7,7))\n",
    "for label in loc_df2.label.unique():\n",
    "    plt.plot(loc_df2.longitude[loc_df2.label==label],loc_df2.latitude[loc_df2.label==label],'.',markersize = 10)\n",
    "plt.show()"
   ]
  },
  {
   "cell_type": "code",
   "execution_count": 95,
   "id": "9d13fa9e-2d62-41fd-bab4-bd200ef32cd6",
   "metadata": {},
   "outputs": [
    {
     "data": {
      "image/png": "[encoded data removed]",
      "text/plain": [
       "<Figure size 504x504 with 1 Axes>"
      ]
     },
     "metadata": {
      "needs_background": "light"
     },
     "output_type": "display_data"
    }
   ],
   "source": [
    "path = r'C:\\\\Users\\\\Codex\\\\Desktop\\\\IPS\\\\组会\\\\task_3\\\\03_validationData_B1.csv'\n",
    "with open(path,encoding='utf-8')as f:\n",
    "    data = np.loadtxt(path, dtype=str, delimiter=',')\n",
    "valid_df = pd.read_csv(path, header=0)\n",
    "valid_df = valid_df.replace('*',-110)\n",
    "valid_df_label = np.asarray(valid_df.iloc[:,204:205])\n",
    "valid_df = valid_df[:78]\n",
    "valid_df2 = pd.DataFrame()\n",
    "valid_df2['longitude'] = valid_df.LONGITUDE\n",
    "valid_df2['latitude'] = valid_df.LATITUDE\n",
    "valid_df2['label'] = valid_df.LABEL\n",
    "plt.figure(figsize = (7,7))\n",
    "for label in valid_df2.label.unique():\n",
    "    plt.plot(valid_df2.longitude[valid_df2.label==label],valid_df2.latitude[valid_df2.label==label],'.',markersize = 10)\n",
    "plt.show()"
   ]
  },
  {
   "cell_type": "code",
   "execution_count": 96,
   "id": "20ada8cc",
   "metadata": {},
   "outputs": [
    {
     "ename": "ValueError",
     "evalue": "'c' argument has 1 elements, which is inconsistent with 'x' and 'y' with size 1058.",
     "output_type": "error",
     "traceback": [
      "\u001b[1;31m---------------------------------------------------------------------------\u001b[0m",
      "\u001b[1;31mTypeError\u001b[0m                                 Traceback (most recent call last)",
      "File \u001b[1;32mD:\\Anaconda3\\lib\\site-packages\\matplotlib\\axes\\_axes.py:4221\u001b[0m, in \u001b[0;36mAxes._parse_scatter_color_args\u001b[1;34m(c, edgecolors, kwargs, xsize, get_next_color_func)\u001b[0m\n\u001b[0;32m   4220\u001b[0m \u001b[38;5;28;01mtry\u001b[39;00m:  \u001b[38;5;66;03m# Is 'c' acceptable as PathCollection facecolors?\u001b[39;00m\n\u001b[1;32m-> 4221\u001b[0m     colors \u001b[38;5;241m=\u001b[39m \u001b[43mmcolors\u001b[49m\u001b[38;5;241;43m.\u001b[39;49m\u001b[43mto_rgba_array\u001b[49m\u001b[43m(\u001b[49m\u001b[43mc\u001b[49m\u001b[43m)\u001b[49m\n\u001b[0;32m   4222\u001b[0m \u001b[38;5;28;01mexcept\u001b[39;00m (\u001b[38;5;167;01mTypeError\u001b[39;00m, \u001b[38;5;167;01mValueError\u001b[39;00m) \u001b[38;5;28;01mas\u001b[39;00m err:\n",
      "File \u001b[1;32mD:\\Anaconda3\\lib\\site-packages\\matplotlib\\colors.py:363\u001b[0m, in \u001b[0;36mto_rgba_array\u001b[1;34m(c, alpha)\u001b[0m\n\u001b[0;32m    359\u001b[0m     \u001b[38;5;28;01mraise\u001b[39;00m \u001b[38;5;167;01mValueError\u001b[39;00m(\u001b[38;5;124m\"\u001b[39m\u001b[38;5;124mUsing a string of single character colors as \u001b[39m\u001b[38;5;124m\"\u001b[39m\n\u001b[0;32m    360\u001b[0m                      \u001b[38;5;124m\"\u001b[39m\u001b[38;5;124ma color sequence is not supported. The colors can \u001b[39m\u001b[38;5;124m\"\u001b[39m\n\u001b[0;32m    361\u001b[0m                      \u001b[38;5;124m\"\u001b[39m\u001b[38;5;124mbe passed as an explicit list instead.\u001b[39m\u001b[38;5;124m\"\u001b[39m)\n\u001b[1;32m--> 363\u001b[0m \u001b[38;5;28;01mif\u001b[39;00m \u001b[38;5;28;43mlen\u001b[39;49m\u001b[43m(\u001b[49m\u001b[43mc\u001b[49m\u001b[43m)\u001b[49m \u001b[38;5;241m==\u001b[39m \u001b[38;5;241m0\u001b[39m:\n\u001b[0;32m    364\u001b[0m     \u001b[38;5;28;01mreturn\u001b[39;00m np\u001b[38;5;241m.\u001b[39mzeros((\u001b[38;5;241m0\u001b[39m, \u001b[38;5;241m4\u001b[39m), \u001b[38;5;28mfloat\u001b[39m)\n",
      "\u001b[1;31mTypeError\u001b[0m: len() of unsized object",
      "\nThe above exception was the direct cause of the following exception:\n",
      "\u001b[1;31mValueError\u001b[0m                                Traceback (most recent call last)",
      "Input \u001b[1;32mIn [96]\u001b[0m, in \u001b[0;36m<cell line: 18>\u001b[1;34m()\u001b[0m\n\u001b[0;32m     14\u001b[0m xdata \u001b[38;5;241m=\u001b[39m train_df\u001b[38;5;241m.\u001b[39mLONGITUDE\n\u001b[0;32m     15\u001b[0m ydata \u001b[38;5;241m=\u001b[39m train_df\u001b[38;5;241m.\u001b[39mLATITUDE\n\u001b[1;32m---> 18\u001b[0m \u001b[43max\u001b[49m\u001b[38;5;241;43m.\u001b[39;49m\u001b[43mscatter3D\u001b[49m\u001b[43m(\u001b[49m\u001b[43mxdata\u001b[49m\u001b[43m,\u001b[49m\u001b[43m \u001b[49m\u001b[43mydata\u001b[49m\u001b[43m,\u001b[49m\u001b[43m \u001b[49m\u001b[43mzdata\u001b[49m\u001b[43m,\u001b[49m\u001b[43m \u001b[49m\u001b[43mc\u001b[49m\u001b[38;5;241;43m=\u001b[39;49m\u001b[43mzdata\u001b[49m\u001b[43m)\u001b[49m\n\u001b[0;32m     19\u001b[0m plt\u001b[38;5;241m.\u001b[39mshow()\n",
      "File \u001b[1;32mD:\\Anaconda3\\lib\\site-packages\\matplotlib\\__init__.py:1412\u001b[0m, in \u001b[0;36m_preprocess_data.<locals>.inner\u001b[1;34m(ax, data, *args, **kwargs)\u001b[0m\n\u001b[0;32m   1409\u001b[0m \u001b[38;5;129m@functools\u001b[39m\u001b[38;5;241m.\u001b[39mwraps(func)\n\u001b[0;32m   1410\u001b[0m \u001b[38;5;28;01mdef\u001b[39;00m \u001b[38;5;21minner\u001b[39m(ax, \u001b[38;5;241m*\u001b[39margs, data\u001b[38;5;241m=\u001b[39m\u001b[38;5;28;01mNone\u001b[39;00m, \u001b[38;5;241m*\u001b[39m\u001b[38;5;241m*\u001b[39mkwargs):\n\u001b[0;32m   1411\u001b[0m     \u001b[38;5;28;01mif\u001b[39;00m data \u001b[38;5;129;01mis\u001b[39;00m \u001b[38;5;28;01mNone\u001b[39;00m:\n\u001b[1;32m-> 1412\u001b[0m         \u001b[38;5;28;01mreturn\u001b[39;00m func(ax, \u001b[38;5;241m*\u001b[39m\u001b[38;5;28mmap\u001b[39m(sanitize_sequence, args), \u001b[38;5;241m*\u001b[39m\u001b[38;5;241m*\u001b[39mkwargs)\n\u001b[0;32m   1414\u001b[0m     bound \u001b[38;5;241m=\u001b[39m new_sig\u001b[38;5;241m.\u001b[39mbind(ax, \u001b[38;5;241m*\u001b[39margs, \u001b[38;5;241m*\u001b[39m\u001b[38;5;241m*\u001b[39mkwargs)\n\u001b[0;32m   1415\u001b[0m     auto_label \u001b[38;5;241m=\u001b[39m (bound\u001b[38;5;241m.\u001b[39marguments\u001b[38;5;241m.\u001b[39mget(label_namer)\n\u001b[0;32m   1416\u001b[0m                   \u001b[38;5;129;01mor\u001b[39;00m bound\u001b[38;5;241m.\u001b[39mkwargs\u001b[38;5;241m.\u001b[39mget(label_namer))\n",
      "File \u001b[1;32mD:\\Anaconda3\\lib\\site-packages\\mpl_toolkits\\mplot3d\\axes3d.py:2389\u001b[0m, in \u001b[0;36mAxes3D.scatter\u001b[1;34m(self, xs, ys, zs, zdir, s, c, depthshade, *args, **kwargs)\u001b[0m\n\u001b[0;32m   2386\u001b[0m \u001b[38;5;28;01mif\u001b[39;00m np\u001b[38;5;241m.\u001b[39mmay_share_memory(zs_orig, zs):  \u001b[38;5;66;03m# Avoid unnecessary copies.\u001b[39;00m\n\u001b[0;32m   2387\u001b[0m     zs \u001b[38;5;241m=\u001b[39m zs\u001b[38;5;241m.\u001b[39mcopy()\n\u001b[1;32m-> 2389\u001b[0m patches \u001b[38;5;241m=\u001b[39m \u001b[38;5;28msuper\u001b[39m()\u001b[38;5;241m.\u001b[39mscatter(xs, ys, s\u001b[38;5;241m=\u001b[39ms, c\u001b[38;5;241m=\u001b[39mc, \u001b[38;5;241m*\u001b[39margs, \u001b[38;5;241m*\u001b[39m\u001b[38;5;241m*\u001b[39mkwargs)\n\u001b[0;32m   2390\u001b[0m art3d\u001b[38;5;241m.\u001b[39mpatch_collection_2d_to_3d(patches, zs\u001b[38;5;241m=\u001b[39mzs, zdir\u001b[38;5;241m=\u001b[39mzdir,\n\u001b[0;32m   2391\u001b[0m                                 depthshade\u001b[38;5;241m=\u001b[39mdepthshade)\n\u001b[0;32m   2393\u001b[0m \u001b[38;5;28;01mif\u001b[39;00m \u001b[38;5;28mself\u001b[39m\u001b[38;5;241m.\u001b[39m_zmargin \u001b[38;5;241m<\u001b[39m \u001b[38;5;241m0.05\u001b[39m \u001b[38;5;129;01mand\u001b[39;00m xs\u001b[38;5;241m.\u001b[39msize \u001b[38;5;241m>\u001b[39m \u001b[38;5;241m0\u001b[39m:\n",
      "File \u001b[1;32mD:\\Anaconda3\\lib\\site-packages\\matplotlib\\__init__.py:1412\u001b[0m, in \u001b[0;36m_preprocess_data.<locals>.inner\u001b[1;34m(ax, data, *args, **kwargs)\u001b[0m\n\u001b[0;32m   1409\u001b[0m \u001b[38;5;129m@functools\u001b[39m\u001b[38;5;241m.\u001b[39mwraps(func)\n\u001b[0;32m   1410\u001b[0m \u001b[38;5;28;01mdef\u001b[39;00m \u001b[38;5;21minner\u001b[39m(ax, \u001b[38;5;241m*\u001b[39margs, data\u001b[38;5;241m=\u001b[39m\u001b[38;5;28;01mNone\u001b[39;00m, \u001b[38;5;241m*\u001b[39m\u001b[38;5;241m*\u001b[39mkwargs):\n\u001b[0;32m   1411\u001b[0m     \u001b[38;5;28;01mif\u001b[39;00m data \u001b[38;5;129;01mis\u001b[39;00m \u001b[38;5;28;01mNone\u001b[39;00m:\n\u001b[1;32m-> 1412\u001b[0m         \u001b[38;5;28;01mreturn\u001b[39;00m func(ax, \u001b[38;5;241m*\u001b[39m\u001b[38;5;28mmap\u001b[39m(sanitize_sequence, args), \u001b[38;5;241m*\u001b[39m\u001b[38;5;241m*\u001b[39mkwargs)\n\u001b[0;32m   1414\u001b[0m     bound \u001b[38;5;241m=\u001b[39m new_sig\u001b[38;5;241m.\u001b[39mbind(ax, \u001b[38;5;241m*\u001b[39margs, \u001b[38;5;241m*\u001b[39m\u001b[38;5;241m*\u001b[39mkwargs)\n\u001b[0;32m   1415\u001b[0m     auto_label \u001b[38;5;241m=\u001b[39m (bound\u001b[38;5;241m.\u001b[39marguments\u001b[38;5;241m.\u001b[39mget(label_namer)\n\u001b[0;32m   1416\u001b[0m                   \u001b[38;5;129;01mor\u001b[39;00m bound\u001b[38;5;241m.\u001b[39mkwargs\u001b[38;5;241m.\u001b[39mget(label_namer))\n",
      "File \u001b[1;32mD:\\Anaconda3\\lib\\site-packages\\matplotlib\\axes\\_axes.py:4387\u001b[0m, in \u001b[0;36mAxes.scatter\u001b[1;34m(self, x, y, s, c, marker, cmap, norm, vmin, vmax, alpha, linewidths, edgecolors, plotnonfinite, **kwargs)\u001b[0m\n\u001b[0;32m   4384\u001b[0m \u001b[38;5;28;01mif\u001b[39;00m edgecolors \u001b[38;5;129;01mis\u001b[39;00m \u001b[38;5;28;01mNone\u001b[39;00m:\n\u001b[0;32m   4385\u001b[0m     orig_edgecolor \u001b[38;5;241m=\u001b[39m kwargs\u001b[38;5;241m.\u001b[39mget(\u001b[38;5;124m'\u001b[39m\u001b[38;5;124medgecolor\u001b[39m\u001b[38;5;124m'\u001b[39m, \u001b[38;5;28;01mNone\u001b[39;00m)\n\u001b[0;32m   4386\u001b[0m c, colors, edgecolors \u001b[38;5;241m=\u001b[39m \\\n\u001b[1;32m-> 4387\u001b[0m     \u001b[38;5;28;43mself\u001b[39;49m\u001b[38;5;241;43m.\u001b[39;49m\u001b[43m_parse_scatter_color_args\u001b[49m\u001b[43m(\u001b[49m\n\u001b[0;32m   4388\u001b[0m \u001b[43m        \u001b[49m\u001b[43mc\u001b[49m\u001b[43m,\u001b[49m\u001b[43m \u001b[49m\u001b[43medgecolors\u001b[49m\u001b[43m,\u001b[49m\u001b[43m \u001b[49m\u001b[43mkwargs\u001b[49m\u001b[43m,\u001b[49m\u001b[43m \u001b[49m\u001b[43mx\u001b[49m\u001b[38;5;241;43m.\u001b[39;49m\u001b[43msize\u001b[49m\u001b[43m,\u001b[49m\n\u001b[0;32m   4389\u001b[0m \u001b[43m        \u001b[49m\u001b[43mget_next_color_func\u001b[49m\u001b[38;5;241;43m=\u001b[39;49m\u001b[38;5;28;43mself\u001b[39;49m\u001b[38;5;241;43m.\u001b[39;49m\u001b[43m_get_patches_for_fill\u001b[49m\u001b[38;5;241;43m.\u001b[39;49m\u001b[43mget_next_color\u001b[49m\u001b[43m)\u001b[49m\n\u001b[0;32m   4391\u001b[0m \u001b[38;5;28;01mif\u001b[39;00m plotnonfinite \u001b[38;5;129;01mand\u001b[39;00m colors \u001b[38;5;129;01mis\u001b[39;00m \u001b[38;5;28;01mNone\u001b[39;00m:\n\u001b[0;32m   4392\u001b[0m     c \u001b[38;5;241m=\u001b[39m np\u001b[38;5;241m.\u001b[39mma\u001b[38;5;241m.\u001b[39mmasked_invalid(c)\n",
      "File \u001b[1;32mD:\\Anaconda3\\lib\\site-packages\\matplotlib\\axes\\_axes.py:4227\u001b[0m, in \u001b[0;36mAxes._parse_scatter_color_args\u001b[1;34m(c, edgecolors, kwargs, xsize, get_next_color_func)\u001b[0m\n\u001b[0;32m   4225\u001b[0m \u001b[38;5;28;01melse\u001b[39;00m:\n\u001b[0;32m   4226\u001b[0m     \u001b[38;5;28;01mif\u001b[39;00m \u001b[38;5;129;01mnot\u001b[39;00m valid_shape:\n\u001b[1;32m-> 4227\u001b[0m         \u001b[38;5;28;01mraise\u001b[39;00m invalid_shape_exception(c\u001b[38;5;241m.\u001b[39msize, xsize) \u001b[38;5;28;01mfrom\u001b[39;00m \u001b[38;5;21;01merr\u001b[39;00m\n\u001b[0;32m   4228\u001b[0m     \u001b[38;5;66;03m# Both the mapping *and* the RGBA conversion failed: pretty\u001b[39;00m\n\u001b[0;32m   4229\u001b[0m     \u001b[38;5;66;03m# severe failure => one may appreciate a verbose feedback.\u001b[39;00m\n\u001b[0;32m   4230\u001b[0m     \u001b[38;5;28;01mraise\u001b[39;00m \u001b[38;5;167;01mValueError\u001b[39;00m(\n\u001b[0;32m   4231\u001b[0m         \u001b[38;5;124mf\u001b[39m\u001b[38;5;124m\"\u001b[39m\u001b[38;5;124m'\u001b[39m\u001b[38;5;124mc\u001b[39m\u001b[38;5;124m'\u001b[39m\u001b[38;5;124m argument must be a color, a sequence of colors, \u001b[39m\u001b[38;5;124m\"\u001b[39m\n\u001b[0;32m   4232\u001b[0m         \u001b[38;5;124mf\u001b[39m\u001b[38;5;124m\"\u001b[39m\u001b[38;5;124mor a sequence of numbers, not \u001b[39m\u001b[38;5;132;01m{\u001b[39;00mc\u001b[38;5;132;01m}\u001b[39;00m\u001b[38;5;124m\"\u001b[39m) \u001b[38;5;28;01mfrom\u001b[39;00m \u001b[38;5;21;01merr\u001b[39;00m\n",
      "\u001b[1;31mValueError\u001b[0m: 'c' argument has 1 elements, which is inconsistent with 'x' and 'y' with size 1058."
     ]
    },
    {
     "data": {
      "image/png": "[encoded data removed]",
      "text/plain": [
       "<Figure size 720x720 with 1 Axes>"
      ]
     },
     "metadata": {
      "needs_background": "light"
     },
     "output_type": "display_data"
    }
   ],
   "source": [
    "#3d + Kmeans可视化\n",
    "fig = plt.figure(figsize = (10,10))\n",
    "ax = plt.axes(projection= '3d')\n",
    "ax.view_init(30,30)\n",
    "\n",
    "\n",
    "for i in range(4):\n",
    "    \n",
    "    kmeans = KMeans(n_clusters = 5, random_state = 2, n_init =10).fit(train_df2_features)\n",
    "    label = kmeans.labels_\n",
    "    zdata = i\n",
    "\n",
    "\n",
    "xdata = train_df.LONGITUDE\n",
    "ydata = train_df.LATITUDE\n",
    "\n",
    "\n",
    "ax.scatter3D(xdata, ydata, zdata, c=zdata)\n",
    "plt.show()"
   ]
  },
  {
   "cell_type": "code",
   "execution_count": null,
   "id": "b93d0b33",
   "metadata": {},
   "outputs": [],
   "source": []
  }
 ],
 "metadata": {
  "kernelspec": {
   "display_name": "Python 3 (ipykernel)",
   "language": "python",
   "name": "python3"
  },
  "language_info": {
   "codemirror_mode": {
    "name": "ipython",
    "version": 3
   },
   "file_extension": ".py",
   "mimetype": "text/x-python",
   "name": "python",
   "nbconvert_exporter": "python",
   "pygments_lexer": "ipython3",
   "version": "3.9.12"
  }
 },
 "nbformat": 4,
 "nbformat_minor": 5
}
