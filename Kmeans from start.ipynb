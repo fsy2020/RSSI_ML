{
 "cells": [
  {
   "cell_type": "code",
   "execution_count": 1,
   "id": "c9ed66f6",
   "metadata": {},
   "outputs": [],
   "source": [
    "import pandas as pd\n",
    "import numpy as np\n",
    "import matplotlib.pyplot as plt"
   ]
  },
  {
   "cell_type": "code",
   "execution_count": 2,
   "id": "e9b6c8aa",
   "metadata": {},
   "outputs": [],
   "source": [
    "def Euclidean_distance(vecA,vecB):\n",
    "    return sqrt(sum(power(vecA-vecB),2))"
   ]
  },
  {
   "cell_type": "code",
   "execution_count": null,
   "id": "250057b5",
   "metadata": {},
   "outputs": [],
   "source": []
  }
 ],
 "metadata": {
  "kernelspec": {
   "display_name": "Python 3 (ipykernel)",
   "language": "python",
   "name": "python3"
  },
  "language_info": {
   "codemirror_mode": {
    "name": "ipython",
    "version": 3
   },
   "file_extension": ".py",
   "mimetype": "text/x-python",
   "name": "python",
   "nbconvert_exporter": "python",
   "pygments_lexer": "ipython3",
   "version": "3.9.12"
  }
 },
 "nbformat": 4,
 "nbformat_minor": 5
}
